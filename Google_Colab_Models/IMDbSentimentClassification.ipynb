{
  "nbformat": 4,
  "nbformat_minor": 0,
  "metadata": {
    "colab": {
      "name": "IMDbSentimentClassification.ipynb",
      "version": "0.3.2",
      "provenance": []
    },
    "kernelspec": {
      "name": "python3",
      "display_name": "Python 3"
    }
  },
  "cells": [
    {
      "cell_type": "code",
      "metadata": {
        "id": "Npz6VWCojEyD",
        "colab_type": "code",
        "outputId": "26eac344-562a-45b5-8d66-13faaef8be63",
        "colab": {
          "base_uri": "https://localhost:8080/",
          "height": 74
        }
      },
      "source": [
        "from google.colab import drive\n",
        "drive.mount('/content/drive')"
      ],
      "execution_count": 236,
      "outputs": [
        {
          "output_type": "stream",
          "text": [
            "Drive already mounted at /content/drive; to attempt to forcibly remount, call drive.mount(\"/content/drive\", force_remount=True).\n"
          ],
          "name": "stdout"
        }
      ]
    },
    {
      "cell_type": "code",
      "metadata": {
        "id": "j7h9B83tpKcY",
        "colab_type": "code",
        "colab": {}
      },
      "source": [
        "import pandas as pd\n",
        "import numpy as np"
      ],
      "execution_count": 0,
      "outputs": []
    },
    {
      "cell_type": "code",
      "metadata": {
        "id": "Y0R8P0mbpOrn",
        "colab_type": "code",
        "outputId": "f4627cb8-685d-4d95-dc53-9ba280deeb64",
        "colab": {
          "base_uri": "https://localhost:8080/",
          "height": 142
        }
      },
      "source": [
        "df = pd.DataFrame()\n",
        "df = pd.read_csv('movie_data.csv', encoding = 'utf-8')\n",
        "df.head(3)"
      ],
      "execution_count": 238,
      "outputs": [
        {
          "output_type": "execute_result",
          "data": {
            "text/html": [
              "<div>\n",
              "<style scoped>\n",
              "    .dataframe tbody tr th:only-of-type {\n",
              "        vertical-align: middle;\n",
              "    }\n",
              "\n",
              "    .dataframe tbody tr th {\n",
              "        vertical-align: top;\n",
              "    }\n",
              "\n",
              "    .dataframe thead th {\n",
              "        text-align: right;\n",
              "    }\n",
              "</style>\n",
              "<table border=\"1\" class=\"dataframe\">\n",
              "  <thead>\n",
              "    <tr style=\"text-align: right;\">\n",
              "      <th></th>\n",
              "      <th>review</th>\n",
              "      <th>sentiment</th>\n",
              "    </tr>\n",
              "  </thead>\n",
              "  <tbody>\n",
              "    <tr>\n",
              "      <th>0</th>\n",
              "      <td>I think the problem with this show not getting...</td>\n",
              "      <td>1</td>\n",
              "    </tr>\n",
              "    <tr>\n",
              "      <th>1</th>\n",
              "      <td>Having finally caught up with this \"masterpiec...</td>\n",
              "      <td>1</td>\n",
              "    </tr>\n",
              "    <tr>\n",
              "      <th>2</th>\n",
              "      <td>Watching this odd little adventure movie, it's...</td>\n",
              "      <td>1</td>\n",
              "    </tr>\n",
              "  </tbody>\n",
              "</table>\n",
              "</div>"
            ],
            "text/plain": [
              "                                              review  sentiment\n",
              "0  I think the problem with this show not getting...          1\n",
              "1  Having finally caught up with this \"masterpiec...          1\n",
              "2  Watching this odd little adventure movie, it's...          1"
            ]
          },
          "metadata": {
            "tags": []
          },
          "execution_count": 238
        }
      ]
    },
    {
      "cell_type": "code",
      "metadata": {
        "id": "KRtk9qyXpaWO",
        "colab_type": "code",
        "colab": {}
      },
      "source": [
        "X_train = df.loc[:24999, 'review'].values\n",
        "y_train = df.loc[:24999, 'sentiment'].values\n",
        "X_test = df.loc[25000:, 'review'].values\n",
        "y_test = df.loc[25000:, 'sentiment'].values"
      ],
      "execution_count": 0,
      "outputs": []
    },
    {
      "cell_type": "code",
      "metadata": {
        "id": "gTPAdbeKpyob",
        "colab_type": "code",
        "colab": {}
      },
      "source": [
        "from tensorflow.python.keras.preprocessing.text import Tokenizer\n",
        "from tensorflow.python.keras.preprocessing.sequence import pad_sequences"
      ],
      "execution_count": 0,
      "outputs": []
    },
    {
      "cell_type": "code",
      "metadata": {
        "id": "OesjNG9gqIX1",
        "colab_type": "code",
        "colab": {}
      },
      "source": [
        "tokenizer_obj = Tokenizer()\n",
        "total_reviews = X_train + X_test\n",
        "tokenizer_obj.fit_on_texts(total_reviews)"
      ],
      "execution_count": 0,
      "outputs": []
    },
    {
      "cell_type": "code",
      "metadata": {
        "id": "evA_-YFTqwvN",
        "colab_type": "code",
        "colab": {}
      },
      "source": [
        "# pad sequences\n",
        "max_length = max([len(s.split()) for s in total_reviews])"
      ],
      "execution_count": 0,
      "outputs": []
    },
    {
      "cell_type": "code",
      "metadata": {
        "id": "eDJJ8qe4z1s3",
        "colab_type": "code",
        "colab": {
          "base_uri": "https://localhost:8080/",
          "height": 34
        },
        "outputId": "bdea3e7a-e760-4ff8-a205-ed274c333c4d"
      },
      "source": [
        "print(max_length)"
      ],
      "execution_count": 243,
      "outputs": [
        {
          "output_type": "stream",
          "text": [
            "2795\n"
          ],
          "name": "stdout"
        }
      ]
    },
    {
      "cell_type": "code",
      "metadata": {
        "id": "9AdoqN-Tq9Ak",
        "colab_type": "code",
        "colab": {}
      },
      "source": [
        "# define vocabulary size\n",
        "vocab_size = len(tokenizer_obj.word_index) + 1"
      ],
      "execution_count": 0,
      "outputs": []
    },
    {
      "cell_type": "code",
      "metadata": {
        "id": "-Q0T4jtRrQTu",
        "colab_type": "code",
        "colab": {}
      },
      "source": [
        "X_train_tokens = tokenizer_obj.texts_to_sequences(X_train)\n",
        "X_test_tokens = tokenizer_obj.texts_to_sequences(X_test)"
      ],
      "execution_count": 0,
      "outputs": []
    },
    {
      "cell_type": "code",
      "metadata": {
        "id": "CvKZGNXrrg_f",
        "colab_type": "code",
        "colab": {}
      },
      "source": [
        "X_train_pad = pad_sequences(X_train_tokens, maxlen = max_length, padding = 'post')\n",
        "X_test_pad = pad_sequences(X_test_tokens, maxlen = max_length, padding = 'post')"
      ],
      "execution_count": 0,
      "outputs": []
    },
    {
      "cell_type": "code",
      "metadata": {
        "id": "OfsJDvUsryM-",
        "colab_type": "code",
        "colab": {}
      },
      "source": [
        "from keras.models import Sequential\n",
        "from keras.layers import Dense, Embedding, LSTM, GRU\n",
        "from keras.layers.embeddings import Embedding"
      ],
      "execution_count": 0,
      "outputs": []
    },
    {
      "cell_type": "code",
      "metadata": {
        "id": "TVLW3PB_sUEc",
        "colab_type": "code",
        "colab": {}
      },
      "source": [
        "EMBEDDING_DIM = 100"
      ],
      "execution_count": 0,
      "outputs": []
    },
    {
      "cell_type": "code",
      "metadata": {
        "id": "PInXWZoSsXA8",
        "colab_type": "code",
        "colab": {}
      },
      "source": [
        "# model = Sequential()\n",
        "# model.add(Embedding(vocab_size, EMBEDDING_DIM, input_length = max_length))\n",
        "# model.add(GRU(units = 32, dropout = 0.2, recurrent_dropout = 0.2))\n",
        "# model.add(Dense(1, activation = 'sigmoid'))"
      ],
      "execution_count": 0,
      "outputs": []
    },
    {
      "cell_type": "code",
      "metadata": {
        "id": "gycRIoC1svl_",
        "colab_type": "code",
        "colab": {}
      },
      "source": [
        "# model.compile(loss = 'binary_crossentropy', optimizer = 'adam', metrics = ['accuracy'])\n",
        "# model.summary()"
      ],
      "execution_count": 0,
      "outputs": []
    },
    {
      "cell_type": "code",
      "metadata": {
        "id": "DHN_46Jis8rP",
        "colab_type": "code",
        "colab": {}
      },
      "source": [
        "# model.fit(X_train_pad, y_train, batch_size = 128, epochs = 25, validation_data = (X_test_pad, y_test), verbose = 1)"
      ],
      "execution_count": 0,
      "outputs": []
    },
    {
      "cell_type": "code",
      "metadata": {
        "id": "_ZBRJG6OtaeS",
        "colab_type": "code",
        "colab": {}
      },
      "source": [
        "# # Test Samples\n",
        "# test_sample_1 = \"This movie is fantastic! I really like it becuse it is so good!\"\n",
        "# test_sample_2 = \"Good movie!\"\n",
        "# test_sample_3 = \"Maybe I like this movie.\"\n",
        "# test_sample_4 = \"Not to my taste, will skip and watch another movie\"\n",
        "# test_sample_5 = \"if you like action, then this moview might be good for you.\"\n",
        "# test_sample_6 = \"Bad movie!\"\n",
        "# test_sample_7 = \"Not a good movie!\"\n",
        "# test_sample_8 = \"This movie really sucks! Can I get my money back please?\"\n",
        "# test_samples = [test_sample_1, test_sample_2, test_sample_3, test_sample_4, test_sample_5, test_sample_6, test_sample_7, test_sample_8]"
      ],
      "execution_count": 0,
      "outputs": []
    },
    {
      "cell_type": "code",
      "metadata": {
        "id": "V9RlGKrzurFM",
        "colab_type": "code",
        "colab": {}
      },
      "source": [
        "# test_samples_tokens = tokenizer_obj.texts_to_sequences(test_samples)\n",
        "# test_samples_tokens_pad = pad_sequences(test_samples_tokens, maxlen = max_length)"
      ],
      "execution_count": 0,
      "outputs": []
    },
    {
      "cell_type": "code",
      "metadata": {
        "id": "kazAKLl_vMm8",
        "colab_type": "code",
        "colab": {}
      },
      "source": [
        "# # 1 - positive sentiment, 0 - negative sentiment\n",
        "# model.predict(x=test_samples_tokens_pad)"
      ],
      "execution_count": 0,
      "outputs": []
    },
    {
      "cell_type": "code",
      "metadata": {
        "id": "_st-N9LhvRPb",
        "colab_type": "code",
        "outputId": "c180a3c6-2392-4a1c-e86b-1d81321a7e02",
        "colab": {
          "base_uri": "https://localhost:8080/",
          "height": 102
        }
      },
      "source": [
        "import string\n",
        "from nltk.tokenize import word_tokenize\n",
        "from nltk.corpus import stopwords\n",
        "import nltk\n",
        "nltk.download('punkt')\n",
        "nltk.download('stopwords')"
      ],
      "execution_count": 1,
      "outputs": [
        {
          "output_type": "stream",
          "text": [
            "[nltk_data] Downloading package punkt to /root/nltk_data...\n",
            "[nltk_data]   Unzipping tokenizers/punkt.zip.\n",
            "[nltk_data] Downloading package stopwords to /root/nltk_data...\n",
            "[nltk_data]   Unzipping corpora/stopwords.zip.\n"
          ],
          "name": "stdout"
        },
        {
          "output_type": "execute_result",
          "data": {
            "text/plain": [
              "True"
            ]
          },
          "metadata": {
            "tags": []
          },
          "execution_count": 1
        }
      ]
    },
    {
      "cell_type": "code",
      "metadata": {
        "id": "c-MbxRLuvvSK",
        "colab_type": "code",
        "colab": {}
      },
      "source": [
        "review_lines = list()\n",
        "lines = df['review'].values.tolist()"
      ],
      "execution_count": 0,
      "outputs": []
    },
    {
      "cell_type": "code",
      "metadata": {
        "id": "rtaeCl0n7jax",
        "colab_type": "code",
        "colab": {}
      },
      "source": [
        "stop_words = stopwords.words('english')"
      ],
      "execution_count": 0,
      "outputs": []
    },
    {
      "cell_type": "code",
      "metadata": {
        "id": "LbV7Q29Tv3zp",
        "colab_type": "code",
        "colab": {
          "base_uri": "https://localhost:8080/",
          "height": 1000
        },
        "outputId": "b3e35803-7749-429d-acb8-bc518f5e3aa3"
      },
      "source": [
        "i = 0\n",
        "for line in lines:\n",
        "  tokens = word_tokenize(line)\n",
        "  \n",
        "  if (i % 500 == 0):\n",
        "    print(i)\n",
        "  \n",
        "  # convert to lower case\n",
        "  tokens = [w.lower() for w in tokens]\n",
        "  \n",
        "  #remove punctuation from each word\n",
        "  table = str.maketrans('', '', string.punctuation)\n",
        "  stripped = [w.translate(table) for w in tokens]\n",
        "  \n",
        "  # remove remaining tokens that are not alphabetic\n",
        "  words = [word for word in stripped if word.isalpha()]\n",
        "  \n",
        "  # filter out stop words\n",
        "  stop_words = set(stopwords.words('english'))\n",
        "  words = [w for w in words if not w in stop_words]\n",
        "  review_lines.append(words)\n",
        "  \n",
        "  i+= 1"
      ],
      "execution_count": 257,
      "outputs": [
        {
          "output_type": "stream",
          "text": [
            "0\n",
            "500\n",
            "1000\n",
            "1500\n",
            "2000\n",
            "2500\n",
            "3000\n",
            "3500\n",
            "4000\n",
            "4500\n",
            "5000\n",
            "5500\n",
            "6000\n",
            "6500\n",
            "7000\n",
            "7500\n",
            "8000\n",
            "8500\n",
            "9000\n",
            "9500\n",
            "10000\n",
            "10500\n",
            "11000\n",
            "11500\n",
            "12000\n",
            "12500\n",
            "13000\n",
            "13500\n",
            "14000\n",
            "14500\n",
            "15000\n",
            "15500\n",
            "16000\n",
            "16500\n",
            "17000\n",
            "17500\n",
            "18000\n",
            "18500\n",
            "19000\n",
            "19500\n",
            "20000\n",
            "20500\n",
            "21000\n",
            "21500\n",
            "22000\n",
            "22500\n",
            "23000\n",
            "23500\n",
            "24000\n",
            "24500\n",
            "25000\n",
            "25500\n",
            "26000\n",
            "26500\n",
            "27000\n",
            "27500\n",
            "28000\n",
            "28500\n",
            "29000\n",
            "29500\n",
            "30000\n",
            "30500\n",
            "31000\n",
            "31500\n",
            "32000\n",
            "32500\n",
            "33000\n",
            "33500\n",
            "34000\n",
            "34500\n",
            "35000\n",
            "35500\n",
            "36000\n",
            "36500\n",
            "37000\n",
            "37500\n",
            "38000\n",
            "38500\n",
            "39000\n",
            "39500\n",
            "40000\n",
            "40500\n",
            "41000\n",
            "41500\n",
            "42000\n",
            "42500\n",
            "43000\n",
            "43500\n",
            "44000\n",
            "44500\n",
            "45000\n",
            "45500\n",
            "46000\n",
            "46500\n",
            "47000\n",
            "47500\n",
            "48000\n",
            "48500\n",
            "49000\n",
            "49500\n"
          ],
          "name": "stdout"
        }
      ]
    },
    {
      "cell_type": "code",
      "metadata": {
        "id": "HsSCsNo5w7pW",
        "colab_type": "code",
        "outputId": "becfc0c6-df8f-4c6a-ac7d-a6bf534a9614",
        "colab": {
          "base_uri": "https://localhost:8080/",
          "height": 34
        }
      },
      "source": [
        "len(review_lines)"
      ],
      "execution_count": 258,
      "outputs": [
        {
          "output_type": "execute_result",
          "data": {
            "text/plain": [
              "50000"
            ]
          },
          "metadata": {
            "tags": []
          },
          "execution_count": 258
        }
      ]
    },
    {
      "cell_type": "code",
      "metadata": {
        "id": "as-VKhFDxKz7",
        "colab_type": "code",
        "colab": {}
      },
      "source": [
        "import gensim"
      ],
      "execution_count": 0,
      "outputs": []
    },
    {
      "cell_type": "code",
      "metadata": {
        "id": "afANLY9AyLMl",
        "colab_type": "code",
        "outputId": "4d291df6-e330-41ec-811a-b0e71f4e9235",
        "colab": {
          "base_uri": "https://localhost:8080/",
          "height": 34
        }
      },
      "source": [
        "# train word2vec model\n",
        "model = gensim.models.Word2Vec(sentences=review_lines, size=EMBEDDING_DIM, window=5, workers=4, min_count=1)\n",
        "\n",
        "# vocab size\n",
        "words = list(model.wv.vocab)\n",
        "print(\"Vocab size: \", len(words))"
      ],
      "execution_count": 260,
      "outputs": [
        {
          "output_type": "stream",
          "text": [
            "Vocab size:  134156\n"
          ],
          "name": "stdout"
        }
      ]
    },
    {
      "cell_type": "code",
      "metadata": {
        "id": "6MUU-vDnyjmJ",
        "colab_type": "code",
        "outputId": "8e88cf94-7072-4860-d882-3bff472f9e20",
        "colab": {
          "base_uri": "https://localhost:8080/",
          "height": 261
        }
      },
      "source": [
        "model.wv.most_similar('horrible')"
      ],
      "execution_count": 261,
      "outputs": [
        {
          "output_type": "stream",
          "text": [
            "/usr/local/lib/python3.6/dist-packages/gensim/matutils.py:737: FutureWarning: Conversion of the second argument of issubdtype from `int` to `np.signedinteger` is deprecated. In future, it will be treated as `np.int64 == np.dtype(int).type`.\n",
            "  if np.issubdtype(vec.dtype, np.int):\n"
          ],
          "name": "stderr"
        },
        {
          "output_type": "execute_result",
          "data": {
            "text/plain": [
              "[('terrible', 0.9134328961372375),\n",
              " ('awful', 0.8634687066078186),\n",
              " ('horrendous', 0.7730600237846375),\n",
              " ('pathetic', 0.7684623003005981),\n",
              " ('atrocious', 0.7541861534118652),\n",
              " ('dreadful', 0.7468248605728149),\n",
              " ('horrid', 0.7428416013717651),\n",
              " ('sucks', 0.7411549091339111),\n",
              " ('lousy', 0.73479163646698),\n",
              " ('bad', 0.7198077440261841)]"
            ]
          },
          "metadata": {
            "tags": []
          },
          "execution_count": 261
        }
      ]
    },
    {
      "cell_type": "code",
      "metadata": {
        "id": "NlfMw060y3_U",
        "colab_type": "code",
        "outputId": "2c1aacef-ac68-4b93-c04c-774bb2df2d7c",
        "colab": {
          "base_uri": "https://localhost:8080/",
          "height": 187
        }
      },
      "source": [
        "model.wv.most_similar_cosmul(positive=['woman', 'king'], negative=['man'])"
      ],
      "execution_count": 262,
      "outputs": [
        {
          "output_type": "execute_result",
          "data": {
            "text/plain": [
              "[('princess', 0.8736845850944519),\n",
              " ('prince', 0.8554849028587341),\n",
              " ('romeo', 0.854260265827179),\n",
              " ('juliet', 0.8492663502693176),\n",
              " ('tromeo', 0.8481894135475159),\n",
              " ('queen', 0.8371779918670654),\n",
              " ('burnford', 0.8369131088256836),\n",
              " ('lennie', 0.8356282114982605),\n",
              " ('damnedthe', 0.8349870443344116),\n",
              " ('chatterley', 0.8345091938972473)]"
            ]
          },
          "metadata": {
            "tags": []
          },
          "execution_count": 262
        }
      ]
    },
    {
      "cell_type": "code",
      "metadata": {
        "id": "Wd4l4_xYzLQn",
        "colab_type": "code",
        "outputId": "c4d3379c-7c53-4553-f582-7bfb24434251",
        "colab": {
          "base_uri": "https://localhost:8080/",
          "height": 142
        }
      },
      "source": [
        "model.wv.doesnt_match(\"woman queen king movie\".split())"
      ],
      "execution_count": 263,
      "outputs": [
        {
          "output_type": "stream",
          "text": [
            "/usr/local/lib/python3.6/dist-packages/gensim/models/keyedvectors.py:895: FutureWarning: arrays to stack must be passed as a \"sequence\" type such as list or tuple. Support for non-sequence iterables such as generators is deprecated as of NumPy 1.16 and will raise an error in the future.\n",
            "  vectors = vstack(self.word_vec(word, use_norm=True) for word in used_words).astype(REAL)\n",
            "/usr/local/lib/python3.6/dist-packages/gensim/matutils.py:737: FutureWarning: Conversion of the second argument of issubdtype from `int` to `np.signedinteger` is deprecated. In future, it will be treated as `np.int64 == np.dtype(int).type`.\n",
            "  if np.issubdtype(vec.dtype, np.int):\n"
          ],
          "name": "stderr"
        },
        {
          "output_type": "execute_result",
          "data": {
            "text/plain": [
              "'movie'"
            ]
          },
          "metadata": {
            "tags": []
          },
          "execution_count": 263
        }
      ]
    },
    {
      "cell_type": "code",
      "metadata": {
        "id": "nHcfM03izbQe",
        "colab_type": "code",
        "outputId": "aa5b0978-5e3c-4be9-8fa8-e0231eb1a9f1",
        "colab": {
          "base_uri": "https://localhost:8080/",
          "height": 111
        }
      },
      "source": [
        "filename = 'imdb_embedding_word2vec.txt'\n",
        "model.wv.save_word2vec_format(filename, binary=False)"
      ],
      "execution_count": 264,
      "outputs": [
        {
          "output_type": "stream",
          "text": [
            "/usr/local/lib/python3.6/dist-packages/smart_open/smart_open_lib.py:398: UserWarning: This function is deprecated, use smart_open.open instead. See the migration notes for details: https://github.com/RaRe-Technologies/smart_open/blob/master/README.rst#migrating-to-the-new-open-function\n",
            "  'See the migration notes for details: %s' % _MIGRATION_NOTES_URL\n"
          ],
          "name": "stderr"
        }
      ]
    },
    {
      "cell_type": "code",
      "metadata": {
        "id": "d35J6g4dzxVg",
        "colab_type": "code",
        "colab": {}
      },
      "source": [
        "import os"
      ],
      "execution_count": 0,
      "outputs": []
    },
    {
      "cell_type": "code",
      "metadata": {
        "id": "rE6pZJDez8G5",
        "colab_type": "code",
        "colab": {}
      },
      "source": [
        "embeddings_index = {}\n",
        "f = open(os.path.join('', 'imdb_embedding_word2vec.txt'), encoding='utf-8')"
      ],
      "execution_count": 0,
      "outputs": []
    },
    {
      "cell_type": "code",
      "metadata": {
        "id": "FMy-hQIm0Ww4",
        "colab_type": "code",
        "outputId": "f533849f-dea2-4a86-d3e0-2a186a5c22b5",
        "colab": {
          "base_uri": "https://localhost:8080/",
          "height": 34
        }
      },
      "source": [
        "for line in f:\n",
        "  values = line.split()\n",
        "  word = values[0]\n",
        "  coefs = np.asarray(values[1:])\n",
        "  embeddings_index[word] = coefs\n",
        "f.close"
      ],
      "execution_count": 267,
      "outputs": [
        {
          "output_type": "execute_result",
          "data": {
            "text/plain": [
              "<function TextIOWrapper.close>"
            ]
          },
          "metadata": {
            "tags": []
          },
          "execution_count": 267
        }
      ]
    },
    {
      "cell_type": "code",
      "metadata": {
        "id": "R9ZXQOGI0ole",
        "colab_type": "code",
        "colab": {}
      },
      "source": [
        "# vectorize the text samples into a 2D integer tensor\n",
        "tokenizer_obj = Tokenizer()\n",
        "tokenizer_obj.fit_on_texts(review_lines)\n",
        "sequences = tokenizer_obj.texts_to_sequences(review_lines)"
      ],
      "execution_count": 0,
      "outputs": []
    },
    {
      "cell_type": "code",
      "metadata": {
        "id": "jzxodg261Gvx",
        "colab_type": "code",
        "outputId": "e0c58247-180c-494e-dae1-edcf1be8c9f6",
        "colab": {
          "base_uri": "https://localhost:8080/",
          "height": 34
        }
      },
      "source": [
        "# pad sequences\n",
        "word_index = tokenizer_obj.word_index\n",
        "print(\"Found %s unique tokens.\", len(word_index))"
      ],
      "execution_count": 269,
      "outputs": [
        {
          "output_type": "stream",
          "text": [
            "Found %s unique tokens. 134156\n"
          ],
          "name": "stdout"
        }
      ]
    },
    {
      "cell_type": "code",
      "metadata": {
        "id": "f4-DHaRk1TU_",
        "colab_type": "code",
        "outputId": "f3d45067-7335-48fc-94ac-a8935a92e7b0",
        "colab": {
          "base_uri": "https://localhost:8080/",
          "height": 51
        }
      },
      "source": [
        "review_pad = pad_sequences(sequences, maxlen=max_length)\n",
        "sentiment = df['sentiment'].values\n",
        "\n",
        "print('Shape of review tensor: ', review_pad.shape)\n",
        "print(\"Shape of sentiment tensor: \", sentiment.shape)"
      ],
      "execution_count": 270,
      "outputs": [
        {
          "output_type": "stream",
          "text": [
            "Shape of review tensor:  (50000, 2795)\n",
            "Shape of sentiment tensor:  (50000,)\n"
          ],
          "name": "stdout"
        }
      ]
    },
    {
      "cell_type": "code",
      "metadata": {
        "id": "a4sRQFlF1oWV",
        "colab_type": "code",
        "colab": {}
      },
      "source": [
        "num_words = len(word_index) + 1\n",
        "embedding_matrix = np.zeros((num_words, EMBEDDING_DIM))"
      ],
      "execution_count": 0,
      "outputs": []
    },
    {
      "cell_type": "code",
      "metadata": {
        "id": "OiExJIl11-MT",
        "colab_type": "code",
        "colab": {}
      },
      "source": [
        "for word, i in word_index.items():\n",
        "  if i > num_words:\n",
        "    continue\n",
        "  embedding_vector = embeddings_index.get(word)\n",
        "  if embedding_vector is not None:\n",
        "    embedding_matrix[i] = embedding_vector"
      ],
      "execution_count": 0,
      "outputs": []
    },
    {
      "cell_type": "code",
      "metadata": {
        "id": "MiqTfcdk2gTD",
        "colab_type": "code",
        "outputId": "ff872f04-b41c-4102-87d4-2197f789a053",
        "colab": {
          "base_uri": "https://localhost:8080/",
          "height": 34
        }
      },
      "source": [
        "num_words"
      ],
      "execution_count": 273,
      "outputs": [
        {
          "output_type": "execute_result",
          "data": {
            "text/plain": [
              "134157"
            ]
          },
          "metadata": {
            "tags": []
          },
          "execution_count": 273
        }
      ]
    },
    {
      "cell_type": "code",
      "metadata": {
        "id": "VDJtADVG3MG8",
        "colab_type": "code",
        "colab": {}
      },
      "source": [
        "from keras.initializers import Constant"
      ],
      "execution_count": 0,
      "outputs": []
    },
    {
      "cell_type": "code",
      "metadata": {
        "id": "x71flvTF2j5u",
        "colab_type": "code",
        "colab": {}
      },
      "source": [
        "model = Sequential()\n",
        "embedding_layer = Embedding(\n",
        "    num_words,\n",
        "    EMBEDDING_DIM,\n",
        "    embeddings_initializer = Constant(embedding_matrix),\n",
        "    input_length = max_length,\n",
        "    trainable = False\n",
        ")\n",
        "model.add(embedding_layer)\n",
        "model.add(GRU(units = 32, dropout=0.2, recurrent_dropout=0.2))\n",
        "model.add(Dense(1, activation = 'sigmoid'))"
      ],
      "execution_count": 0,
      "outputs": []
    },
    {
      "cell_type": "code",
      "metadata": {
        "id": "25Ysu-cl3KWj",
        "colab_type": "code",
        "outputId": "e6d70901-3b4a-4c93-8c9e-8ad477ff4766",
        "colab": {
          "base_uri": "https://localhost:8080/",
          "height": 238
        }
      },
      "source": [
        "model.compile(loss='binary_crossentropy', optimizer='adam', metrics=['accuracy'])\n",
        "model.summary()"
      ],
      "execution_count": 0,
      "outputs": [
        {
          "output_type": "stream",
          "text": [
            "_________________________________________________________________\n",
            "Layer (type)                 Output Shape              Param #   \n",
            "=================================================================\n",
            "embedding_4 (Embedding)      (None, 2795, 100)         13415700  \n",
            "_________________________________________________________________\n",
            "gru_4 (GRU)                  (None, 32)                12768     \n",
            "_________________________________________________________________\n",
            "dense_3 (Dense)              (None, 1)                 33        \n",
            "=================================================================\n",
            "Total params: 13,428,501\n",
            "Trainable params: 12,801\n",
            "Non-trainable params: 13,415,700\n",
            "_________________________________________________________________\n"
          ],
          "name": "stdout"
        }
      ]
    },
    {
      "cell_type": "code",
      "metadata": {
        "id": "0ffE-xTQ3Z4l",
        "colab_type": "code",
        "colab": {}
      },
      "source": [
        "VALIDATION_SPLIT = 0.2"
      ],
      "execution_count": 0,
      "outputs": []
    },
    {
      "cell_type": "code",
      "metadata": {
        "id": "Dal_BG3V3kHX",
        "colab_type": "code",
        "colab": {}
      },
      "source": [
        "indices = np.arange(review_pad.shape[0])\n",
        "np.random.shuffle(indices)\n",
        "review_pad = review_pad[indices]\n",
        "sentiment = sentiment[indices]\n",
        "num_validation_samples = int(VALIDATION_SPLIT * review_pad.shape[0])"
      ],
      "execution_count": 0,
      "outputs": []
    },
    {
      "cell_type": "code",
      "metadata": {
        "id": "vVf3roou39Oo",
        "colab_type": "code",
        "colab": {}
      },
      "source": [
        "X_train_pad = review_pad[:-num_validation_samples]\n",
        "y_train = sentiment[:-num_validation_samples]\n",
        "X_test_pad = review_pad[-num_validation_samples:]\n",
        "y_test = sentiment[-num_validation_samples:]"
      ],
      "execution_count": 0,
      "outputs": []
    },
    {
      "cell_type": "code",
      "metadata": {
        "id": "WedL86y94Tvs",
        "colab_type": "code",
        "outputId": "c9721b99-eade-4ef6-9558-3c789b83a444",
        "colab": {
          "base_uri": "https://localhost:8080/",
          "height": 34
        }
      },
      "source": [
        "print(\"Shape of X_train_pad_tensor \", X_train_pad.shape)"
      ],
      "execution_count": 216,
      "outputs": [
        {
          "output_type": "stream",
          "text": [
            "Shape of X_train_pad_tensor  (40000, 2795)\n"
          ],
          "name": "stdout"
        }
      ]
    },
    {
      "cell_type": "code",
      "metadata": {
        "id": "Mmf3xsp44Z37",
        "colab_type": "code",
        "outputId": "be7a6cc1-d15d-4464-fc82-01960d32804e",
        "colab": {
          "base_uri": "https://localhost:8080/",
          "height": 34
        }
      },
      "source": [
        "y_train.shape"
      ],
      "execution_count": 217,
      "outputs": [
        {
          "output_type": "execute_result",
          "data": {
            "text/plain": [
              "(40000,)"
            ]
          },
          "metadata": {
            "tags": []
          },
          "execution_count": 217
        }
      ]
    },
    {
      "cell_type": "code",
      "metadata": {
        "id": "AVzhiGqo4byT",
        "colab_type": "code",
        "outputId": "12759a00-a050-43e9-e811-1e3f78616710",
        "colab": {
          "base_uri": "https://localhost:8080/",
          "height": 34
        }
      },
      "source": [
        "X_test_pad.shape"
      ],
      "execution_count": 218,
      "outputs": [
        {
          "output_type": "execute_result",
          "data": {
            "text/plain": [
              "(10000, 2795)"
            ]
          },
          "metadata": {
            "tags": []
          },
          "execution_count": 218
        }
      ]
    },
    {
      "cell_type": "code",
      "metadata": {
        "id": "WRiO2kqI4fHL",
        "colab_type": "code",
        "outputId": "b1d2616f-bc7f-4b71-d008-6aa8100de30b",
        "colab": {
          "base_uri": "https://localhost:8080/",
          "height": 34
        }
      },
      "source": [
        "y_test.shape"
      ],
      "execution_count": 219,
      "outputs": [
        {
          "output_type": "execute_result",
          "data": {
            "text/plain": [
              "(10000,)"
            ]
          },
          "metadata": {
            "tags": []
          },
          "execution_count": 219
        }
      ]
    },
    {
      "cell_type": "code",
      "metadata": {
        "id": "lvHY3Imd4hWL",
        "colab_type": "code",
        "colab": {
          "base_uri": "https://localhost:8080/",
          "height": 224
        },
        "outputId": "2a89b739-87b7-443f-9633-f1e43a0c3ca8"
      },
      "source": [
        "model.fit(X_train_pad, y_train, batch_size=128, epochs=25, validation_data=(X_test_pad, y_test), verbose = 1)"
      ],
      "execution_count": 220,
      "outputs": [
        {
          "output_type": "error",
          "ename": "AttributeError",
          "evalue": "ignored",
          "traceback": [
            "\u001b[0;31m---------------------------------------------------------------------------\u001b[0m",
            "\u001b[0;31mAttributeError\u001b[0m                            Traceback (most recent call last)",
            "\u001b[0;32m<ipython-input-220-3539c6993eaa>\u001b[0m in \u001b[0;36m<module>\u001b[0;34m()\u001b[0m\n\u001b[0;32m----> 1\u001b[0;31m \u001b[0mmodel\u001b[0m\u001b[0;34m.\u001b[0m\u001b[0mfit\u001b[0m\u001b[0;34m(\u001b[0m\u001b[0mX_train_pad\u001b[0m\u001b[0;34m,\u001b[0m \u001b[0my_train\u001b[0m\u001b[0;34m,\u001b[0m \u001b[0mbatch_size\u001b[0m\u001b[0;34m=\u001b[0m\u001b[0;36m128\u001b[0m\u001b[0;34m,\u001b[0m \u001b[0mepochs\u001b[0m\u001b[0;34m=\u001b[0m\u001b[0;36m25\u001b[0m\u001b[0;34m,\u001b[0m \u001b[0mvalidation_data\u001b[0m\u001b[0;34m=\u001b[0m\u001b[0;34m(\u001b[0m\u001b[0mX_test_pad\u001b[0m\u001b[0;34m,\u001b[0m \u001b[0my_test\u001b[0m\u001b[0;34m)\u001b[0m\u001b[0;34m,\u001b[0m \u001b[0mverbose\u001b[0m \u001b[0;34m=\u001b[0m \u001b[0;36m1\u001b[0m\u001b[0;34m)\u001b[0m\u001b[0;34m\u001b[0m\u001b[0;34m\u001b[0m\u001b[0m\n\u001b[0m",
            "\u001b[0;31mAttributeError\u001b[0m: 'Word2Vec' object has no attribute 'fit'"
          ]
        }
      ]
    },
    {
      "cell_type": "code",
      "metadata": {
        "id": "qG4iR7f6NYcJ",
        "colab_type": "code",
        "colab": {
          "base_uri": "https://localhost:8080/",
          "height": 111
        },
        "outputId": "1a0c9a89-bcc2-45e6-ee30-a6465147d744"
      },
      "source": [
        "# accuaracy on 6 epochs around 0.8651\n",
        "model.save('trained_on_6_epochs.h5')"
      ],
      "execution_count": 221,
      "outputs": [
        {
          "output_type": "stream",
          "text": [
            "/usr/local/lib/python3.6/dist-packages/smart_open/smart_open_lib.py:398: UserWarning: This function is deprecated, use smart_open.open instead. See the migration notes for details: https://github.com/RaRe-Technologies/smart_open/blob/master/README.rst#migrating-to-the-new-open-function\n",
            "  'See the migration notes for details: %s' % _MIGRATION_NOTES_URL\n"
          ],
          "name": "stderr"
        }
      ]
    },
    {
      "cell_type": "code",
      "metadata": {
        "id": "gXeB2Pv04wvg",
        "colab_type": "code",
        "colab": {}
      },
      "source": [
        "# accuracy on 10 epochs around 0.8766\n",
        "model.save('trained_on_10_epochs.h5')"
      ],
      "execution_count": 0,
      "outputs": []
    },
    {
      "cell_type": "code",
      "metadata": {
        "id": "7RosSeBA51Co",
        "colab_type": "code",
        "colab": {}
      },
      "source": [
        "from keras.models import load_model"
      ],
      "execution_count": 0,
      "outputs": []
    },
    {
      "cell_type": "code",
      "metadata": {
        "id": "QXbm4Z1o5ocr",
        "colab_type": "code",
        "colab": {}
      },
      "source": [
        "model = load_model('trained_on_10_epochs.h5')"
      ],
      "execution_count": 0,
      "outputs": []
    },
    {
      "cell_type": "code",
      "metadata": {
        "id": "yiyKOqHo79Vh",
        "colab_type": "code",
        "colab": {}
      },
      "source": [
        "with open('tokenizer.pickle', 'rb') as handle:\n",
        "    tokenizer_obj = pickle.load(handle)"
      ],
      "execution_count": 0,
      "outputs": []
    },
    {
      "cell_type": "code",
      "metadata": {
        "id": "YpTLE19yb_nv",
        "colab_type": "code",
        "colab": {}
      },
      "source": [
        "predict_lines = list()\n",
        "lines = [\"This was a awesome! Like it! Watch it ASAP!\", \"Hmm, this was pretty bad. Didn't like it fellas\", \"It's okay, but nothing special\"]"
      ],
      "execution_count": 0,
      "outputs": []
    },
    {
      "cell_type": "code",
      "metadata": {
        "id": "uz35sKxAcTN1",
        "colab_type": "code",
        "colab": {}
      },
      "source": [
        "i = 0\n",
        "for line in lines:\n",
        "  tokens = word_tokenize(line)\n",
        "  \n",
        "  # convert to lower case\n",
        "  tokens = [w.lower() for w in tokens]\n",
        "  \n",
        "  #remove punctuation from each word\n",
        "  table = str.maketrans('', '', string.punctuation)\n",
        "  stripped = [w.translate(table) for w in tokens]\n",
        "  \n",
        "  # remove remaining tokens that are not alphabetic\n",
        "  words = [word for word in stripped if word.isalpha()]\n",
        "  \n",
        "  # filter out stop words\n",
        "  stop_words = set(stopwords.words('english'))\n",
        "  words = [w for w in words if not w in stop_words]\n",
        "  predict_lines.append(words)\n",
        "  "
      ],
      "execution_count": 0,
      "outputs": []
    },
    {
      "cell_type": "code",
      "metadata": {
        "id": "xmsgQkp4dJdN",
        "colab_type": "code",
        "colab": {}
      },
      "source": [
        "predict_sequences = tokenizer_obj.texts_to_sequences(predict_lines)\n",
        "predict_pad = pad_sequences(predict_sequences, maxlen=max_length)"
      ],
      "execution_count": 0,
      "outputs": []
    },
    {
      "cell_type": "code",
      "metadata": {
        "id": "_cWUv1zKbdSK",
        "colab_type": "code",
        "outputId": "fbbbc277-7cfe-4e6d-f1f4-5ee69812fe84",
        "colab": {
          "base_uri": "https://localhost:8080/",
          "height": 68
        }
      },
      "source": [
        "model.predict(predict_pad)"
      ],
      "execution_count": 292,
      "outputs": [
        {
          "output_type": "execute_result",
          "data": {
            "text/plain": [
              "array([[0.89841706],\n",
              "       [0.16635819],\n",
              "       [0.20810091]], dtype=float32)"
            ]
          },
          "metadata": {
            "tags": []
          },
          "execution_count": 292
        }
      ]
    },
    {
      "cell_type": "code",
      "metadata": {
        "id": "rzrUperydsPP",
        "colab_type": "code",
        "colab": {
          "base_uri": "https://localhost:8080/",
          "height": 34
        },
        "outputId": "4cedc321-4c22-417c-d153-19ccd87fafa4"
      },
      "source": [
        "tokenizer_obj"
      ],
      "execution_count": 283,
      "outputs": [
        {
          "output_type": "execute_result",
          "data": {
            "text/plain": [
              "<keras_preprocessing.text.Tokenizer at 0x7f3631307198>"
            ]
          },
          "metadata": {
            "tags": []
          },
          "execution_count": 283
        }
      ]
    },
    {
      "cell_type": "code",
      "metadata": {
        "id": "AUB2-Q6xtkS2",
        "colab_type": "code",
        "colab": {}
      },
      "source": [
        "import pickle"
      ],
      "execution_count": 0,
      "outputs": []
    },
    {
      "cell_type": "code",
      "metadata": {
        "id": "43AgE69BvfQd",
        "colab_type": "code",
        "colab": {}
      },
      "source": [
        "# saving\n",
        "with open('tokenizer.pickle', 'wb') as handle:\n",
        "    pickle.dump(tokenizer_obj, handle, protocol=pickle.HIGHEST_PROTOCOL)"
      ],
      "execution_count": 0,
      "outputs": []
    },
    {
      "cell_type": "code",
      "metadata": {
        "id": "5djd6q6ovkb1",
        "colab_type": "code",
        "colab": {}
      },
      "source": [
        "del model"
      ],
      "execution_count": 0,
      "outputs": []
    },
    {
      "cell_type": "code",
      "metadata": {
        "id": "w4U_5WB77z4a",
        "colab_type": "code",
        "colab": {}
      },
      "source": [
        "del tokenizer_obj"
      ],
      "execution_count": 0,
      "outputs": []
    },
    {
      "cell_type": "code",
      "metadata": {
        "id": "zHWYP5wB742t",
        "colab_type": "code",
        "colab": {}
      },
      "source": [
        "stop_words"
      ],
      "execution_count": 0,
      "outputs": []
    },
    {
      "cell_type": "code",
      "metadata": {
        "id": "VnY0nUPG7y9C",
        "colab_type": "code",
        "colab": {}
      },
      "source": [
        "# saving\n",
        "with open('stop_words.pickle', 'wb') as handle:\n",
        "    pickle.dump(stop_words, handle, protocol=pickle.HIGHEST_PROTOCOL)"
      ],
      "execution_count": 0,
      "outputs": []
    },
    {
      "cell_type": "code",
      "metadata": {
        "id": "mT4IHOSF76cW",
        "colab_type": "code",
        "colab": {}
      },
      "source": [
        ""
      ],
      "execution_count": 0,
      "outputs": []
    }
  ]
}