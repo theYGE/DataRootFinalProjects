{
  "nbformat": 4,
  "nbformat_minor": 0,
  "metadata": {
    "colab": {
      "name": "AlexNet.ipynb",
      "version": "0.3.2",
      "provenance": [],
      "collapsed_sections": []
    },
    "kernelspec": {
      "name": "python3",
      "display_name": "Python 3"
    }
  },
  "cells": [
    {
      "cell_type": "code",
      "metadata": {
        "id": "2w40CaaJCBmA",
        "colab_type": "code",
        "outputId": "d091d1b0-95af-4ff2-e86c-81fbccd63384",
        "colab": {
          "base_uri": "https://localhost:8080/",
          "height": 74
        }
      },
      "source": [
        "# Run this cell to mount your Google Drive.\n",
        "from google.colab import drive\n",
        "drive.mount('/content/drive')"
      ],
      "execution_count": 0,
      "outputs": [
        {
          "output_type": "stream",
          "text": [
            "Drive already mounted at /content/drive; to attempt to forcibly remount, call drive.mount(\"/content/drive\", force_remount=True).\n"
          ],
          "name": "stdout"
        }
      ]
    },
    {
      "cell_type": "code",
      "metadata": {
        "id": "of1-qh338rbJ",
        "colab_type": "code",
        "colab": {}
      },
      "source": [
        "import numpy as np\n",
        "import pandas as pd\n",
        "import tensorflow.keras as keras\n",
        "from google.colab import files\n",
        "import os\n",
        "from PIL import Image"
      ],
      "execution_count": 0,
      "outputs": []
    },
    {
      "cell_type": "code",
      "metadata": {
        "id": "pC0CW3h_3z6R",
        "colab_type": "code",
        "colab": {}
      },
      "source": [
        "from keras.models import Sequential\n",
        "from keras.layers import Dense, Activation, Dropout, Flatten, Conv2D, MaxPooling2D\n",
        "from keras.layers.normalization import BatchNormalization"
      ],
      "execution_count": 0,
      "outputs": []
    },
    {
      "cell_type": "code",
      "metadata": {
        "id": "IVs-F54lEW1G",
        "colab_type": "code",
        "outputId": "41d978c8-75c1-4eed-da18-03e3e8e0d0d8",
        "colab": {
          "base_uri": "https://localhost:8080/",
          "height": 68
        }
      },
      "source": [
        "# Transforms test images to 227x227 and saves them to folder with ready signs\n",
        "\n",
        "signs_test_root = \"/content/drive/My Drive/DATA/SIGNS/test_signs/\"\n",
        "ready_signs_test_root = \"/content/drive/My Drive/DATA/READY_SIGNS/test_signs/\"\n",
        "counter = 0\n",
        "for filename in os.listdir(signs_test_root):\n",
        "  image = Image.open(signs_test_root + filename)\n",
        "  # summarize some details about the image\n",
        "#   print(image.format)\n",
        "#   print(image.mode)\n",
        "#   print(image.size)\n",
        "  # show the image\n",
        "  image.thumbnail((227,227))\n",
        "#   display(image)\n",
        "  image.save(ready_signs_test_root + filename)\n",
        "#   print(filename)\n",
        "  counter += 1\n",
        "  if (counter % 50 == 0):\n",
        "    print('Saved ', counter, \" photo\")\n",
        "print('Saved ', counter, ' photos')"
      ],
      "execution_count": 0,
      "outputs": [
        {
          "output_type": "stream",
          "text": [
            "Saved  50  photo\n",
            "Saved  100  photo\n",
            "Saved  120  photos\n"
          ],
          "name": "stdout"
        }
      ]
    },
    {
      "cell_type": "code",
      "metadata": {
        "id": "eaxDZiaIMYRO",
        "colab_type": "code",
        "colab": {}
      },
      "source": [
        "# signs_train_root = \"/content/drive/My Drive/DATA/SIGNS/train_signs/\"\n",
        "# ready_signs_train_root = \"/content/drive/My Drive/DATA/READY_SIGNS/train_signs/\"\n",
        "# counter = 0\n",
        "# for filename in os.listdir(signs_train_root):\n",
        "#   image = Image.open(signs_train_root + filename)\n",
        "#   # summarize some details about the image\n",
        "# #   print(image.format)\n",
        "# #   print(image.mode)\n",
        "# #   print(image.size)\n",
        "#   # show the image\n",
        "#   image.thumbnail((227,227))\n",
        "# #   display(image)\n",
        "#   image.save(ready_signs_train_root + filename)\n",
        "#   print(filename)\n",
        "#   counter += 1\n",
        "#   print(counter)"
      ],
      "execution_count": 0,
      "outputs": []
    },
    {
      "cell_type": "code",
      "metadata": {
        "id": "BxOuLf9RMJ4W",
        "colab_type": "code",
        "colab": {}
      },
      "source": [
        "# Creates dataframes for each type of sign\n",
        "\n",
        "dataframes = []\n",
        "for i in range(0,6):\n",
        "  dataframe = pd.DataFrame(columns=['Name', \"Location\"])\n",
        "  dataframes.append(dataframe)"
      ],
      "execution_count": 0,
      "outputs": []
    },
    {
      "cell_type": "code",
      "metadata": {
        "id": "1pfc0UbP9Js6",
        "colab_type": "code",
        "colab": {}
      },
      "source": [
        "# Loads signs from train_signs to dataframes\n",
        "\n",
        "signs_train_root = \"/content/drive/My Drive/DATA/SIGNS/train_signs/\"\n",
        "ready_signs_train_root = \"/content/drive/My Drive/DATA/READY_SIGNS/train_signs/\"\n",
        "counter = 0\n",
        "for filename in os.listdir(signs_train_root):\n",
        "  index = int(filename[0])\n",
        "  dataframes[index] = dataframes[index].append({\n",
        "      'Name': filename,\n",
        "      'Location': signs_train_root + filename\n",
        "  }, ignore_index=True)"
      ],
      "execution_count": 0,
      "outputs": []
    },
    {
      "cell_type": "code",
      "metadata": {
        "id": "dSLZcKjy9jSZ",
        "colab_type": "code",
        "outputId": "bdfcf631-50b0-435d-f7c0-b9477ae2d2ef",
        "colab": {
          "base_uri": "https://localhost:8080/",
          "height": 204
        }
      },
      "source": [
        "# Checks signs dataframe\n",
        "dataframes[5].head()"
      ],
      "execution_count": 0,
      "outputs": [
        {
          "output_type": "execute_result",
          "data": {
            "text/html": [
              "<div>\n",
              "<style scoped>\n",
              "    .dataframe tbody tr th:only-of-type {\n",
              "        vertical-align: middle;\n",
              "    }\n",
              "\n",
              "    .dataframe tbody tr th {\n",
              "        vertical-align: top;\n",
              "    }\n",
              "\n",
              "    .dataframe thead th {\n",
              "        text-align: right;\n",
              "    }\n",
              "</style>\n",
              "<table border=\"1\" class=\"dataframe\">\n",
              "  <thead>\n",
              "    <tr style=\"text-align: right;\">\n",
              "      <th></th>\n",
              "      <th>Name</th>\n",
              "      <th>Location</th>\n",
              "    </tr>\n",
              "  </thead>\n",
              "  <tbody>\n",
              "    <tr>\n",
              "      <th>0</th>\n",
              "      <td>5_IMG_5605.jpg</td>\n",
              "      <td>/content/drive/My Drive/DATA/SIGNS/train_signs...</td>\n",
              "    </tr>\n",
              "    <tr>\n",
              "      <th>1</th>\n",
              "      <td>5_IMG_5604.jpg</td>\n",
              "      <td>/content/drive/My Drive/DATA/SIGNS/train_signs...</td>\n",
              "    </tr>\n",
              "    <tr>\n",
              "      <th>2</th>\n",
              "      <td>5_IMG_5595.jpg</td>\n",
              "      <td>/content/drive/My Drive/DATA/SIGNS/train_signs...</td>\n",
              "    </tr>\n",
              "    <tr>\n",
              "      <th>3</th>\n",
              "      <td>5_IMG_5542.jpg</td>\n",
              "      <td>/content/drive/My Drive/DATA/SIGNS/train_signs...</td>\n",
              "    </tr>\n",
              "    <tr>\n",
              "      <th>4</th>\n",
              "      <td>5_IMG_5556.jpg</td>\n",
              "      <td>/content/drive/My Drive/DATA/SIGNS/train_signs...</td>\n",
              "    </tr>\n",
              "  </tbody>\n",
              "</table>\n",
              "</div>"
            ],
            "text/plain": [
              "             Name                                           Location\n",
              "0  5_IMG_5605.jpg  /content/drive/My Drive/DATA/SIGNS/train_signs...\n",
              "1  5_IMG_5604.jpg  /content/drive/My Drive/DATA/SIGNS/train_signs...\n",
              "2  5_IMG_5595.jpg  /content/drive/My Drive/DATA/SIGNS/train_signs...\n",
              "3  5_IMG_5542.jpg  /content/drive/My Drive/DATA/SIGNS/train_signs...\n",
              "4  5_IMG_5556.jpg  /content/drive/My Drive/DATA/SIGNS/train_signs..."
            ]
          },
          "metadata": {
            "tags": []
          },
          "execution_count": 106
        }
      ]
    },
    {
      "cell_type": "code",
      "metadata": {
        "id": "Pw-xqFWs-YZ1",
        "colab_type": "code",
        "outputId": "b938e357-c39b-4e65-f9c4-10d4ac9df410",
        "colab": {
          "base_uri": "https://localhost:8080/",
          "height": 476
        }
      },
      "source": [
        "# Transforms train_images to 227x227 and saves them to train/dev folder in 80/20 ratio\n",
        "\n",
        "ready_signs_train_root = \"/content/drive/My Drive/DATA/READY_SIGNS/train_signs/\"\n",
        "ready_signs_dev_root = \"/content/drive/My Drive/DATA/READY_SIGNS/dev_signs/\"\n",
        "counter = 0\n",
        "for frame in dataframes:\n",
        "#   print('New Frame')\n",
        "  for i in range(0, 180):\n",
        "#     print(i)\n",
        "    image_name = frame['Name'][i]\n",
        "    image_location = frame['Location'][i]\n",
        "    image = Image.open(image_location)\n",
        "    image.thumbnail((227,227))\n",
        "    if (i < 160):\n",
        "      image.save(ready_signs_train_root + image_name)\n",
        "    else:\n",
        "      image.save(ready_signs_dev_root + image_name)\n",
        "    counter += 1\n",
        "    if (counter % 50 == 0):\n",
        "      print(\"Saved \", counter, \" photo\")\n",
        "  print('Saved ', counter, ' photos in a dataframe')\n",
        "\n",
        "#   for i in range(160, 180):\n",
        "    "
      ],
      "execution_count": 0,
      "outputs": [
        {
          "output_type": "stream",
          "text": [
            "Saved  50  photo\n",
            "Saved  100  photo\n",
            "Saved  150  photo\n",
            "Saved  180  photos in a dataframe\n",
            "Saved  200  photo\n",
            "Saved  250  photo\n",
            "Saved  300  photo\n",
            "Saved  350  photo\n",
            "Saved  360  photos in a dataframe\n",
            "Saved  400  photo\n",
            "Saved  450  photo\n",
            "Saved  500  photo\n",
            "Saved  540  photos in a dataframe\n",
            "Saved  550  photo\n",
            "Saved  600  photo\n",
            "Saved  650  photo\n",
            "Saved  700  photo\n",
            "Saved  720  photos in a dataframe\n",
            "Saved  750  photo\n",
            "Saved  800  photo\n",
            "Saved  850  photo\n",
            "Saved  900  photo\n",
            "Saved  900  photos in a dataframe\n",
            "Saved  950  photo\n",
            "Saved  1000  photo\n",
            "Saved  1050  photo\n",
            "Saved  1080  photos in a dataframe\n"
          ],
          "name": "stdout"
        }
      ]
    },
    {
      "cell_type": "code",
      "metadata": {
        "id": "aBdnWYeQuqVe",
        "colab_type": "code",
        "colab": {}
      },
      "source": [
        "from sklearn.preprocessing import StandardScaler"
      ],
      "execution_count": 0,
      "outputs": []
    },
    {
      "cell_type": "code",
      "metadata": {
        "id": "tXjpebVquksF",
        "colab_type": "code",
        "colab": {}
      },
      "source": [
        "train_images = []\n",
        "train_labels = []\n",
        "scaler = StandardScaler()\n",
        "number_of_features = 227 * 227 * 3"
      ],
      "execution_count": 0,
      "outputs": []
    },
    {
      "cell_type": "code",
      "metadata": {
        "id": "zhvuHYJMujI1",
        "colab_type": "code",
        "outputId": "39865c38-7a37-4087-ac8a-3b74c0e12a54",
        "colab": {
          "base_uri": "https://localhost:8080/",
          "height": 340
        }
      },
      "source": [
        "ready_signs_train_root = \"/content/drive/My Drive/DATA/READY_SIGNS/train_signs/\"\n",
        "\n",
        "counter = 0\n",
        "for filename in os.listdir(ready_signs_train_root):\n",
        "  index = int(filename[0])\n",
        "  label = np.zeros(6)\n",
        "  label[index] = 1\n",
        "  \n",
        "  image = Image.open(ready_signs_train_root + filename)\n",
        "  image_array = np.array(image)\n",
        "  image_array = image_array.flatten()\n",
        "#   if (counter == 0):\n",
        "#     print(image_array)\n",
        "  train_images.append(image_array)\n",
        "  train_labels.append(label)\n",
        "#   print(train_images[counter])\n",
        "  counter += 1\n",
        "  if (counter % 50 == 0):\n",
        "    print(counter)"
      ],
      "execution_count": 0,
      "outputs": [
        {
          "output_type": "stream",
          "text": [
            "50\n",
            "100\n",
            "150\n",
            "200\n",
            "250\n",
            "300\n",
            "350\n",
            "400\n",
            "450\n",
            "500\n",
            "550\n",
            "600\n",
            "650\n",
            "700\n",
            "750\n",
            "800\n",
            "850\n",
            "900\n",
            "950\n"
          ],
          "name": "stdout"
        }
      ]
    },
    {
      "cell_type": "code",
      "metadata": {
        "id": "lojXWlXSuXpN",
        "colab_type": "code",
        "colab": {}
      },
      "source": [
        "train_images = np.stack(train_images, axis = 0)\n",
        "train_labels = np.stack(train_labels, axis = 0)"
      ],
      "execution_count": 0,
      "outputs": []
    },
    {
      "cell_type": "code",
      "metadata": {
        "id": "9ZKDKs5DmPSo",
        "colab_type": "code",
        "outputId": "1497e955-3744-4d94-9be5-c7132781cdb6",
        "colab": {
          "base_uri": "https://localhost:8080/",
          "height": 34
        }
      },
      "source": [
        "len(train_images)"
      ],
      "execution_count": 0,
      "outputs": [
        {
          "output_type": "execute_result",
          "data": {
            "text/plain": [
              "960"
            ]
          },
          "metadata": {
            "tags": []
          },
          "execution_count": 113
        }
      ]
    },
    {
      "cell_type": "code",
      "metadata": {
        "id": "g_uWe--Erfgm",
        "colab_type": "code",
        "outputId": "6a1187a6-33ef-48a8-a9c4-6cc4a79158df",
        "colab": {
          "base_uri": "https://localhost:8080/",
          "height": 34
        }
      },
      "source": [
        "train_images.shape"
      ],
      "execution_count": 0,
      "outputs": [
        {
          "output_type": "execute_result",
          "data": {
            "text/plain": [
              "(960, 227, 227, 3)"
            ]
          },
          "metadata": {
            "tags": []
          },
          "execution_count": 190
        }
      ]
    },
    {
      "cell_type": "code",
      "metadata": {
        "id": "OA2Fg2NAuZUe",
        "colab_type": "code",
        "colab": {}
      },
      "source": [
        "train_images = scaler.fit_transform(train_images)"
      ],
      "execution_count": 0,
      "outputs": []
    },
    {
      "cell_type": "code",
      "metadata": {
        "id": "vP0zMhJkqZGT",
        "colab_type": "code",
        "outputId": "1c37854b-d58d-4173-9069-598637f6a39b",
        "colab": {
          "base_uri": "https://localhost:8080/",
          "height": 51
        }
      },
      "source": [
        "scaler.mean_"
      ],
      "execution_count": 0,
      "outputs": [
        {
          "output_type": "execute_result",
          "data": {
            "text/plain": [
              "array([229.4875    , 221.48333333, 211.46145833, ..., 182.01145833,\n",
              "       168.79791667, 158.32291667])"
            ]
          },
          "metadata": {
            "tags": []
          },
          "execution_count": 195
        }
      ]
    },
    {
      "cell_type": "code",
      "metadata": {
        "id": "BZqPemaeqz7i",
        "colab_type": "code",
        "colab": {}
      },
      "source": [
        "np.save('var', scaler.var_)"
      ],
      "execution_count": 0,
      "outputs": []
    },
    {
      "cell_type": "code",
      "metadata": {
        "id": "4O47nytDubyc",
        "colab_type": "code",
        "outputId": "91779ad6-a4da-44fe-defe-0fba2c8971d0",
        "colab": {
          "base_uri": "https://localhost:8080/",
          "height": 51
        }
      },
      "source": [
        "train_images[0]"
      ],
      "execution_count": 0,
      "outputs": [
        {
          "output_type": "execute_result",
          "data": {
            "text/plain": [
              "array([3.10977058, 2.27879124, 1.9417691 , ..., 0.91520602, 0.73925699,\n",
              "       0.68224949])"
            ]
          },
          "metadata": {
            "tags": []
          },
          "execution_count": 115
        }
      ]
    },
    {
      "cell_type": "code",
      "metadata": {
        "id": "qfi56uEqHxIW",
        "colab_type": "code",
        "outputId": "372d6e22-d4e8-4bbe-d4c3-944b33b2c3be",
        "colab": {
          "base_uri": "https://localhost:8080/",
          "height": 51
        }
      },
      "source": [
        "train_images[1]"
      ],
      "execution_count": 0,
      "outputs": [
        {
          "output_type": "execute_result",
          "data": {
            "text/plain": [
              "array([ 0.62443945,  0.4979703 ,  0.23826476, ..., -1.96209773,\n",
              "       -2.17979528, -2.20098606])"
            ]
          },
          "metadata": {
            "tags": []
          },
          "execution_count": 116
        }
      ]
    },
    {
      "cell_type": "code",
      "metadata": {
        "id": "0DO-0U-i-hWG",
        "colab_type": "code",
        "outputId": "61192c5b-32df-4f7e-852f-07106b84297a",
        "colab": {
          "base_uri": "https://localhost:8080/",
          "height": 34
        }
      },
      "source": [
        "train_labels[1]"
      ],
      "execution_count": 0,
      "outputs": [
        {
          "output_type": "execute_result",
          "data": {
            "text/plain": [
              "array([0., 0., 0., 0., 0., 1.])"
            ]
          },
          "metadata": {
            "tags": []
          },
          "execution_count": 117
        }
      ]
    },
    {
      "cell_type": "code",
      "metadata": {
        "id": "yREzjhBC1YRz",
        "colab_type": "code",
        "colab": {}
      },
      "source": [
        "dev_images = []\n",
        "dev_labels = []"
      ],
      "execution_count": 0,
      "outputs": []
    },
    {
      "cell_type": "code",
      "metadata": {
        "id": "3U3NHtSD2JmD",
        "colab_type": "code",
        "outputId": "546f0643-74ab-4565-f72a-6358876165a0",
        "colab": {
          "base_uri": "https://localhost:8080/",
          "height": 51
        }
      },
      "source": [
        "ready_signs_dev_root = \"/content/drive/My Drive/DATA/READY_SIGNS/dev_signs/\"\n",
        "\n",
        "counter = 0\n",
        "for filename in os.listdir(ready_signs_dev_root):\n",
        "  index = int(filename[0])\n",
        "  label = np.zeros(6)\n",
        "  label[index] = 1\n",
        "  \n",
        "  image = Image.open(ready_signs_dev_root + filename)\n",
        "  image_array = np.array(image)\n",
        "  image_array = image_array.flatten()\n",
        "  dev_images.append(image_array)\n",
        "  dev_labels.append(label)\n",
        "  \n",
        "  counter += 1\n",
        "  if (counter % 50 == 0):\n",
        "    print(counter)"
      ],
      "execution_count": 0,
      "outputs": [
        {
          "output_type": "stream",
          "text": [
            "50\n",
            "100\n"
          ],
          "name": "stdout"
        }
      ]
    },
    {
      "cell_type": "code",
      "metadata": {
        "id": "EPiZnYom2SS7",
        "colab_type": "code",
        "colab": {}
      },
      "source": [
        "dev_images = np.stack(dev_images, axis = 0)\n",
        "dev_labels = np.stack(dev_labels, axis = 0)\n",
        "dev_images = scaler.transform(dev_images)"
      ],
      "execution_count": 0,
      "outputs": []
    },
    {
      "cell_type": "code",
      "metadata": {
        "id": "aTNBAypP2X5m",
        "colab_type": "code",
        "outputId": "4158e13a-fcae-4716-b484-60913d70c39f",
        "colab": {
          "base_uri": "https://localhost:8080/",
          "height": 51
        }
      },
      "source": [
        "dev_images[0]"
      ],
      "execution_count": 0,
      "outputs": [
        {
          "output_type": "execute_result",
          "data": {
            "text/plain": [
              "array([0.62443945, 1.09157728, 1.47717701, ..., 0.41821719, 0.40325097,\n",
              "       0.36602365])"
            ]
          },
          "metadata": {
            "tags": []
          },
          "execution_count": 121
        }
      ]
    },
    {
      "cell_type": "code",
      "metadata": {
        "id": "0TGhfs-LU4Ky",
        "colab_type": "code",
        "outputId": "f1662d7c-9ab3-4803-fae4-3d24d5c34402",
        "colab": {
          "base_uri": "https://localhost:8080/",
          "height": 51
        }
      },
      "source": [
        "dev_images[1]"
      ],
      "execution_count": 0,
      "outputs": [
        {
          "output_type": "execute_result",
          "data": {
            "text/plain": [
              "array([-0.86675923, -0.09563668,  0.54799282, ...,  0.65363295,\n",
              "        0.80225811,  0.86826468])"
            ]
          },
          "metadata": {
            "tags": []
          },
          "execution_count": 122
        }
      ]
    },
    {
      "cell_type": "code",
      "metadata": {
        "id": "99Ln5sCC-rMy",
        "colab_type": "code",
        "outputId": "2913e263-276b-49d6-8d6c-2f2400f68e7d",
        "colab": {
          "base_uri": "https://localhost:8080/",
          "height": 34
        }
      },
      "source": [
        "dev_labels[1]"
      ],
      "execution_count": 0,
      "outputs": [
        {
          "output_type": "execute_result",
          "data": {
            "text/plain": [
              "array([0., 0., 0., 0., 0., 1.])"
            ]
          },
          "metadata": {
            "tags": []
          },
          "execution_count": 123
        }
      ]
    },
    {
      "cell_type": "code",
      "metadata": {
        "id": "tHiBNoV55fSy",
        "colab_type": "code",
        "outputId": "59a6198b-9e09-4db3-a398-7b421fec016d",
        "colab": {
          "base_uri": "https://localhost:8080/",
          "height": 51
        }
      },
      "source": [
        "print(train_images[0], '\\n', train_labels[0])"
      ],
      "execution_count": 0,
      "outputs": [
        {
          "output_type": "stream",
          "text": [
            "[3.10977058 2.27879124 1.9417691  ... 0.91520602 0.73925699 0.68224949] \n",
            " [1. 0. 0. 0. 0. 0.]\n"
          ],
          "name": "stdout"
        }
      ]
    },
    {
      "cell_type": "code",
      "metadata": {
        "id": "5PY8hSx_5oIT",
        "colab_type": "code",
        "colab": {}
      },
      "source": [
        "train_images_list = []\n",
        "for image in train_images:\n",
        "  train_images_list.append(np.reshape(image, (227, 227, 3)))"
      ],
      "execution_count": 0,
      "outputs": []
    },
    {
      "cell_type": "code",
      "metadata": {
        "id": "luPsQozaTMoj",
        "colab_type": "code",
        "outputId": "ed694bc0-dcb3-4673-aaef-d83aa03947ea",
        "colab": {
          "base_uri": "https://localhost:8080/",
          "height": 34
        }
      },
      "source": [
        "len(train_images_list)"
      ],
      "execution_count": 0,
      "outputs": [
        {
          "output_type": "execute_result",
          "data": {
            "text/plain": [
              "960"
            ]
          },
          "metadata": {
            "tags": []
          },
          "execution_count": 127
        }
      ]
    },
    {
      "cell_type": "code",
      "metadata": {
        "id": "LvUOWK5b6FLG",
        "colab_type": "code",
        "outputId": "193b31a3-d525-4489-a9ef-905ce9f2f654",
        "colab": {
          "base_uri": "https://localhost:8080/",
          "height": 357
        }
      },
      "source": [
        "train_images_list[0][0][150:170]"
      ],
      "execution_count": 0,
      "outputs": [
        {
          "output_type": "execute_result",
          "data": {
            "text/plain": [
              "array([[-0.60620075, -0.98593693, -0.89435834],\n",
              "       [-0.57990996, -0.9923977 , -0.88837909],\n",
              "       [-0.5964512 , -1.0659403 , -0.93922591],\n",
              "       [-0.64243133, -1.15266035, -1.01371764],\n",
              "       [-0.69853685, -1.26882791, -1.10833989],\n",
              "       [-0.90721216, -1.42765086, -1.26752373],\n",
              "       [-0.82871665, -1.36062747, -1.22858774],\n",
              "       [-1.03112595, -1.65035564, -1.45384477],\n",
              "       [-1.18979334, -2.28527053, -1.86295032],\n",
              "       [-1.17185262, -2.45972009, -2.01047764],\n",
              "       [-0.89243593, -2.05485809, -1.78433163],\n",
              "       [-0.88517997, -2.03033843, -1.77417023],\n",
              "       [-0.89735128, -2.05989484, -1.78549403],\n",
              "       [-1.12171045, -2.2534037 , -1.9408082 ],\n",
              "       [-1.12060905, -2.25189174, -1.92486922],\n",
              "       [-1.31831949, -2.42498744, -2.07089111],\n",
              "       [-1.31239354, -2.41856324, -2.05864216],\n",
              "       [-1.3146048 , -2.42115026, -2.07759566],\n",
              "       [-1.45858537, -2.56357669, -2.19544911],\n",
              "       [-1.45259981, -2.57219499, -2.20907341]])"
            ]
          },
          "metadata": {
            "tags": []
          },
          "execution_count": 128
        }
      ]
    },
    {
      "cell_type": "code",
      "metadata": {
        "id": "Lyh_C3kg6Nad",
        "colab_type": "code",
        "outputId": "4e90b8b7-186b-41e3-9ea4-668cd25af650",
        "colab": {
          "base_uri": "https://localhost:8080/",
          "height": 51
        }
      },
      "source": [
        "print(dev_images[0], '\\n', dev_labels[0])"
      ],
      "execution_count": 0,
      "outputs": [
        {
          "output_type": "stream",
          "text": [
            "[0.62443945 1.09157728 1.47717701 ... 0.41821719 0.40325097 0.36602365] \n",
            " [1. 0. 0. 0. 0. 0.]\n"
          ],
          "name": "stdout"
        }
      ]
    },
    {
      "cell_type": "code",
      "metadata": {
        "id": "GYd80gNV6NhK",
        "colab_type": "code",
        "colab": {}
      },
      "source": [
        "dev_images_list = []\n",
        "for image in dev_images:\n",
        "  dev_images_list.append(np.reshape(image, (227, 227, 3)))"
      ],
      "execution_count": 0,
      "outputs": []
    },
    {
      "cell_type": "code",
      "metadata": {
        "id": "AtfYiPOM6Nl1",
        "colab_type": "code",
        "outputId": "71c025e4-8974-4a91-e858-161393f958c5",
        "colab": {
          "base_uri": "https://localhost:8080/",
          "height": 187
        }
      },
      "source": [
        "dev_images_list[0][0][0:10]"
      ],
      "execution_count": 0,
      "outputs": [
        {
          "output_type": "execute_result",
          "data": {
            "text/plain": [
              "array([[0.62443945, 1.09157728, 1.47717701],\n",
              "       [0.62117448, 1.08867322, 1.47459293],\n",
              "       [0.62113307, 1.0893985 , 1.47513466],\n",
              "       [0.56257546, 1.04642305, 1.43432209],\n",
              "       [0.56447407, 1.04878601, 1.43767856],\n",
              "       [0.5031999 , 1.00515443, 1.39763433],\n",
              "       [0.50379961, 1.00563475, 1.39894407],\n",
              "       [0.50828283, 1.01068607, 1.4042029 ],\n",
              "       [0.50900289, 1.01492098, 1.40441657],\n",
              "       [0.5105193 , 1.01576531, 1.40567426]])"
            ]
          },
          "metadata": {
            "tags": []
          },
          "execution_count": 131
        }
      ]
    },
    {
      "cell_type": "code",
      "metadata": {
        "id": "PbyFmXX16uAs",
        "colab_type": "code",
        "outputId": "1bce6a87-3e71-4151-891a-9315af5d5f0a",
        "colab": {
          "base_uri": "https://localhost:8080/",
          "height": 34
        }
      },
      "source": [
        "len(dev_images_list)"
      ],
      "execution_count": 0,
      "outputs": [
        {
          "output_type": "execute_result",
          "data": {
            "text/plain": [
              "120"
            ]
          },
          "metadata": {
            "tags": []
          },
          "execution_count": 132
        }
      ]
    },
    {
      "cell_type": "code",
      "metadata": {
        "id": "4DkA7nCo8qK3",
        "colab_type": "code",
        "colab": {}
      },
      "source": [
        "train_images = np.array(train_images_list)\n",
        "train_labels = np.array(train_labels)\n",
        "dev_images = np.array(dev_images_list)\n",
        "dev_labels = np.array(dev_labels)"
      ],
      "execution_count": 0,
      "outputs": []
    },
    {
      "cell_type": "code",
      "metadata": {
        "id": "T05ph_pK83nO",
        "colab_type": "code",
        "outputId": "c34dbbdc-4f96-4cfd-b69c-44be36023647",
        "colab": {
          "base_uri": "https://localhost:8080/",
          "height": 34
        }
      },
      "source": [
        "train_images.shape"
      ],
      "execution_count": 0,
      "outputs": [
        {
          "output_type": "execute_result",
          "data": {
            "text/plain": [
              "(960, 227, 227, 3)"
            ]
          },
          "metadata": {
            "tags": []
          },
          "execution_count": 134
        }
      ]
    },
    {
      "cell_type": "code",
      "metadata": {
        "id": "GOOJvLle9T9j",
        "colab_type": "code",
        "outputId": "0ff0ed07-7367-4694-fc07-0ef842d196a6",
        "colab": {
          "base_uri": "https://localhost:8080/",
          "height": 34
        }
      },
      "source": [
        "train_labels.shape"
      ],
      "execution_count": 0,
      "outputs": [
        {
          "output_type": "execute_result",
          "data": {
            "text/plain": [
              "(960, 6)"
            ]
          },
          "metadata": {
            "tags": []
          },
          "execution_count": 135
        }
      ]
    },
    {
      "cell_type": "code",
      "metadata": {
        "id": "YNcrFfF22cYU",
        "colab_type": "code",
        "colab": {}
      },
      "source": [
        "np.random.seed(1000)"
      ],
      "execution_count": 0,
      "outputs": []
    },
    {
      "cell_type": "code",
      "metadata": {
        "id": "VcYSxkxp3UC8",
        "colab_type": "code",
        "outputId": "d905d6f8-d084-4832-bb3e-9b5c7b04c9b5",
        "colab": {
          "base_uri": "https://localhost:8080/",
          "height": 986
        }
      },
      "source": [
        "#Instantiate an empty model\n",
        "model = Sequential()\n",
        "\n",
        "# 1st Convolutional Layer\n",
        "model.add(Conv2D(filters=96, input_shape=(227,227,3), kernel_size=(11,11), strides=(4,4), padding=\"valid\"))\n",
        "model.add(Activation(\"relu\"))\n",
        "# Max Pooling\n",
        "model.add(MaxPooling2D(pool_size=(2,2), strides=(2,2), padding=\"valid\"))\n",
        "\n",
        "# 2nd Convolutional Layer\n",
        "model.add(Conv2D(filters=256, kernel_size=(11,11), strides=(1,1), padding=\"valid\"))\n",
        "model.add(Activation(\"relu\"))\n",
        "# Max Pooling\n",
        "model.add(MaxPooling2D(pool_size=(2,2), strides=(2,2), padding=\"valid\"))\n",
        "\n",
        "# 3rd Convolutional Layer\n",
        "model.add(Conv2D(filters=384, kernel_size=(3,3), strides=(1,1), padding=\"valid\"))\n",
        "model.add(Activation(\"relu\"))\n",
        "\n",
        "# 4th Convolutional Layer\n",
        "model.add(Conv2D(filters=384, kernel_size=(3,3), strides=(1,1), padding=\"valid\"))\n",
        "model.add(Activation(\"relu\"))\n",
        "\n",
        "# 5th Convolutional Layer\n",
        "model.add(Conv2D(filters=256, kernel_size=(3,3), strides=(1,1), padding=\"valid\"))\n",
        "model.add(Activation(\"relu\"))\n",
        "# Max Pooling\n",
        "model.add(MaxPooling2D(pool_size=(2,2), strides=(2,2), padding=\"valid\"))\n",
        "\n",
        "# Passing it to a Fully Connected layer\n",
        "model.add(Flatten())\n",
        "# 1st Fully Connected Layer\n",
        "model.add(Dense(4096, input_shape=(227*227*3,)))\n",
        "model.add(Activation(\"relu\"))\n",
        "# Add Dropout to prevent overfitting\n",
        "model.add(Dropout(0.4))\n",
        "\n",
        "# 2nd Fully Connected Layer\n",
        "model.add(Dense(4096))\n",
        "model.add(Activation(\"relu\"))\n",
        "# Add Dropout\n",
        "model.add(Dropout(0.4))\n",
        "\n",
        "# 3rd Fully Connected Layer\n",
        "model.add(Dense(1000))\n",
        "model.add(Activation(\"relu\"))\n",
        "# Add Dropout\n",
        "model.add(Dropout(0.4))\n",
        "\n",
        "# Output Layer\n",
        "model.add(Dense(6))\n",
        "model.add(Activation('softmax'))\n",
        "\n",
        "model.summary()\n",
        "\n",
        "# Compile the model\n",
        "model.compile(loss=keras.losses.categorical_crossentropy, optimizer='adam', metrics=['accuracy'])"
      ],
      "execution_count": 0,
      "outputs": [
        {
          "output_type": "stream",
          "text": [
            "_________________________________________________________________\n",
            "Layer (type)                 Output Shape              Param #   \n",
            "=================================================================\n",
            "conv2d_16 (Conv2D)           (None, 55, 55, 96)        34944     \n",
            "_________________________________________________________________\n",
            "activation_28 (Activation)   (None, 55, 55, 96)        0         \n",
            "_________________________________________________________________\n",
            "max_pooling2d_10 (MaxPooling (None, 27, 27, 96)        0         \n",
            "_________________________________________________________________\n",
            "conv2d_17 (Conv2D)           (None, 17, 17, 256)       2973952   \n",
            "_________________________________________________________________\n",
            "activation_29 (Activation)   (None, 17, 17, 256)       0         \n",
            "_________________________________________________________________\n",
            "max_pooling2d_11 (MaxPooling (None, 8, 8, 256)         0         \n",
            "_________________________________________________________________\n",
            "conv2d_18 (Conv2D)           (None, 6, 6, 384)         885120    \n",
            "_________________________________________________________________\n",
            "activation_30 (Activation)   (None, 6, 6, 384)         0         \n",
            "_________________________________________________________________\n",
            "conv2d_19 (Conv2D)           (None, 4, 4, 384)         1327488   \n",
            "_________________________________________________________________\n",
            "activation_31 (Activation)   (None, 4, 4, 384)         0         \n",
            "_________________________________________________________________\n",
            "conv2d_20 (Conv2D)           (None, 2, 2, 256)         884992    \n",
            "_________________________________________________________________\n",
            "activation_32 (Activation)   (None, 2, 2, 256)         0         \n",
            "_________________________________________________________________\n",
            "max_pooling2d_12 (MaxPooling (None, 1, 1, 256)         0         \n",
            "_________________________________________________________________\n",
            "flatten_4 (Flatten)          (None, 256)               0         \n",
            "_________________________________________________________________\n",
            "dense_13 (Dense)             (None, 4096)              1052672   \n",
            "_________________________________________________________________\n",
            "activation_33 (Activation)   (None, 4096)              0         \n",
            "_________________________________________________________________\n",
            "dropout_10 (Dropout)         (None, 4096)              0         \n",
            "_________________________________________________________________\n",
            "dense_14 (Dense)             (None, 4096)              16781312  \n",
            "_________________________________________________________________\n",
            "activation_34 (Activation)   (None, 4096)              0         \n",
            "_________________________________________________________________\n",
            "dropout_11 (Dropout)         (None, 4096)              0         \n",
            "_________________________________________________________________\n",
            "dense_15 (Dense)             (None, 1000)              4097000   \n",
            "_________________________________________________________________\n",
            "activation_35 (Activation)   (None, 1000)              0         \n",
            "_________________________________________________________________\n",
            "dropout_12 (Dropout)         (None, 1000)              0         \n",
            "_________________________________________________________________\n",
            "dense_16 (Dense)             (None, 6)                 6006      \n",
            "_________________________________________________________________\n",
            "activation_36 (Activation)   (None, 6)                 0         \n",
            "=================================================================\n",
            "Total params: 28,043,486\n",
            "Trainable params: 28,043,486\n",
            "Non-trainable params: 0\n",
            "_________________________________________________________________\n"
          ],
          "name": "stdout"
        }
      ]
    },
    {
      "cell_type": "code",
      "metadata": {
        "id": "KHu-tr4M3cPz",
        "colab_type": "code",
        "outputId": "17f652ce-8cea-4968-893c-a2eaa2171f07",
        "colab": {
          "base_uri": "https://localhost:8080/",
          "height": 1000
        }
      },
      "source": [
        "model.fit(\n",
        "    x = train_images,\n",
        "    y = train_labels,\n",
        "    batch_size = 32,\n",
        "    epochs = 25,\n",
        "    verbose = 1,\n",
        "    validation_data = (dev_images, dev_labels)\n",
        ")"
      ],
      "execution_count": 0,
      "outputs": [
        {
          "output_type": "stream",
          "text": [
            "Train on 960 samples, validate on 120 samples\n",
            "Epoch 1/25\n",
            "960/960 [==============================] - 158s 165ms/step - loss: 26.8337 - acc: 0.1740 - val_loss: 1.7925 - val_acc: 0.1667\n",
            "Epoch 2/25\n",
            "960/960 [==============================] - 156s 163ms/step - loss: 1.7909 - acc: 0.1604 - val_loss: 1.7657 - val_acc: 0.1583\n",
            "Epoch 3/25\n",
            "960/960 [==============================] - 156s 163ms/step - loss: 1.6989 - acc: 0.2365 - val_loss: 1.5936 - val_acc: 0.3833\n",
            "Epoch 4/25\n",
            "960/960 [==============================] - 155s 162ms/step - loss: 1.4296 - acc: 0.3802 - val_loss: 1.2628 - val_acc: 0.4583\n",
            "Epoch 5/25\n",
            "960/960 [==============================] - 156s 162ms/step - loss: 1.2110 - acc: 0.4802 - val_loss: 1.1557 - val_acc: 0.4750\n",
            "Epoch 6/25\n",
            "960/960 [==============================] - 156s 162ms/step - loss: 1.0377 - acc: 0.5854 - val_loss: 1.0545 - val_acc: 0.4667\n",
            "Epoch 7/25\n",
            "960/960 [==============================] - 155s 162ms/step - loss: 0.9505 - acc: 0.6156 - val_loss: 1.2110 - val_acc: 0.5417\n",
            "Epoch 8/25\n",
            "960/960 [==============================] - 155s 162ms/step - loss: 0.8903 - acc: 0.6719 - val_loss: 0.9265 - val_acc: 0.5750\n",
            "Epoch 9/25\n",
            "960/960 [==============================] - 156s 163ms/step - loss: 0.6952 - acc: 0.7229 - val_loss: 0.8214 - val_acc: 0.7000\n",
            "Epoch 10/25\n",
            "960/960 [==============================] - 158s 164ms/step - loss: 0.7605 - acc: 0.6990 - val_loss: 0.9117 - val_acc: 0.5917\n",
            "Epoch 11/25\n",
            "960/960 [==============================] - 155s 162ms/step - loss: 0.6698 - acc: 0.7448 - val_loss: 0.8395 - val_acc: 0.6500\n",
            "Epoch 12/25\n",
            "960/960 [==============================] - 155s 162ms/step - loss: 0.5839 - acc: 0.7792 - val_loss: 1.0440 - val_acc: 0.6167\n",
            "Epoch 13/25\n",
            "960/960 [==============================] - 156s 163ms/step - loss: 0.5648 - acc: 0.7927 - val_loss: 0.7908 - val_acc: 0.7250\n",
            "Epoch 14/25\n",
            "960/960 [==============================] - 155s 161ms/step - loss: 0.3710 - acc: 0.8615 - val_loss: 1.0238 - val_acc: 0.7167\n",
            "Epoch 15/25\n",
            "960/960 [==============================] - 156s 162ms/step - loss: 0.5256 - acc: 0.8156 - val_loss: 0.5805 - val_acc: 0.8083\n",
            "Epoch 16/25\n",
            "960/960 [==============================] - 155s 161ms/step - loss: 0.3525 - acc: 0.8917 - val_loss: 0.5661 - val_acc: 0.7667\n",
            "Epoch 17/25\n",
            "960/960 [==============================] - 155s 162ms/step - loss: 0.2989 - acc: 0.8875 - val_loss: 0.6159 - val_acc: 0.8000\n",
            "Epoch 18/25\n",
            "960/960 [==============================] - 156s 162ms/step - loss: 0.2140 - acc: 0.9250 - val_loss: 0.7201 - val_acc: 0.8417\n",
            "Epoch 19/25\n",
            "960/960 [==============================] - 160s 167ms/step - loss: 0.2858 - acc: 0.9187 - val_loss: 1.3497 - val_acc: 0.7083\n",
            "Epoch 20/25\n",
            "960/960 [==============================] - 156s 163ms/step - loss: 0.4990 - acc: 0.8323 - val_loss: 0.6686 - val_acc: 0.7750\n",
            "Epoch 21/25\n",
            "960/960 [==============================] - 156s 163ms/step - loss: 0.3786 - acc: 0.8823 - val_loss: 0.6552 - val_acc: 0.8417\n",
            "Epoch 22/25\n",
            "960/960 [==============================] - 156s 162ms/step - loss: 0.2533 - acc: 0.9177 - val_loss: 0.7717 - val_acc: 0.8333\n",
            "Epoch 23/25\n",
            "960/960 [==============================] - 156s 162ms/step - loss: 0.2338 - acc: 0.9229 - val_loss: 0.7012 - val_acc: 0.7667\n",
            "Epoch 24/25\n",
            "960/960 [==============================] - 156s 162ms/step - loss: 0.5015 - acc: 0.8865 - val_loss: 0.9055 - val_acc: 0.8167\n",
            "Epoch 25/25\n",
            "960/960 [==============================] - 155s 162ms/step - loss: 0.3034 - acc: 0.9094 - val_loss: 0.6666 - val_acc: 0.8417\n"
          ],
          "name": "stdout"
        },
        {
          "output_type": "execute_result",
          "data": {
            "text/plain": [
              "<keras.callbacks.History at 0x7fc4f85db4a8>"
            ]
          },
          "metadata": {
            "tags": []
          },
          "execution_count": 139
        }
      ]
    },
    {
      "cell_type": "code",
      "metadata": {
        "id": "iBlc4dSE-JBp",
        "colab_type": "code",
        "outputId": "ff494546-c186-4799-bae2-96ca97d84c3f",
        "colab": {
          "base_uri": "https://localhost:8080/",
          "height": 34
        }
      },
      "source": [
        "model"
      ],
      "execution_count": 0,
      "outputs": [
        {
          "output_type": "execute_result",
          "data": {
            "text/plain": [
              "<keras.engine.sequential.Sequential at 0x7fc4f8552780>"
            ]
          },
          "metadata": {
            "tags": []
          },
          "execution_count": 182
        }
      ]
    },
    {
      "cell_type": "code",
      "metadata": {
        "id": "ykaIcVn3kvDq",
        "colab_type": "code",
        "colab": {}
      },
      "source": [
        "# model.save('keras.h5')"
      ],
      "execution_count": 0,
      "outputs": []
    },
    {
      "cell_type": "code",
      "metadata": {
        "id": "uqdEtrNWb5MY",
        "colab_type": "code",
        "colab": {}
      },
      "source": [
        "from keras.models import load_model"
      ],
      "execution_count": 0,
      "outputs": []
    },
    {
      "cell_type": "code",
      "metadata": {
        "id": "J57v1vx0cKFC",
        "colab_type": "code",
        "outputId": "3d888f0f-1e75-492e-a09f-913a128c1b96",
        "colab": {
          "base_uri": "https://localhost:8080/",
          "height": 168
        }
      },
      "source": [
        "loaded_model = load_model('keras.h5')"
      ],
      "execution_count": 0,
      "outputs": [
        {
          "output_type": "stream",
          "text": [
            "W0718 14:16:36.268393 140485173397376 deprecation.py:323] From /usr/local/lib/python3.6/dist-packages/tensorflow/python/ops/math_grad.py:1250: add_dispatch_support.<locals>.wrapper (from tensorflow.python.ops.array_ops) is deprecated and will be removed in a future version.\n",
            "Instructions for updating:\n",
            "Use tf.where in 2.0, which has the same broadcast rule as np.where\n"
          ],
          "name": "stderr"
        }
      ]
    },
    {
      "cell_type": "code",
      "metadata": {
        "id": "m3CbCG3gjyRX",
        "colab_type": "code",
        "colab": {}
      },
      "source": [
        "test_images = []\n",
        "test_real_labels = []\n",
        "test_predicted_labels = []"
      ],
      "execution_count": 0,
      "outputs": []
    },
    {
      "cell_type": "code",
      "metadata": {
        "id": "sChsIIS1tJRC",
        "colab_type": "code",
        "outputId": "0ae27735-6147-4478-e8a7-4e5c233a536f",
        "colab": {
          "base_uri": "https://localhost:8080/",
          "height": 51
        }
      },
      "source": [
        "ready_signs_test_root = \"/content/drive/My Drive/DATA/READY_SIGNS/test_signs/\"\n",
        "\n",
        "counter = 0\n",
        "for filename in os.listdir(ready_signs_test_root):\n",
        "  index = int(filename[0])\n",
        "#   label = np.zeros(6)\n",
        "#   label[index] = 1\n",
        "  \n",
        "  image = Image.open(ready_signs_test_root + filename)\n",
        "  image_array = np.array(image)\n",
        "  image_array = image_array.flatten()\n",
        "  test_images.append(image_array)\n",
        "  test_real_labels.append(index)\n",
        "  \n",
        "  counter += 1\n",
        "  if (counter % 50 == 0):\n",
        "    print(counter)"
      ],
      "execution_count": 0,
      "outputs": [
        {
          "output_type": "stream",
          "text": [
            "50\n",
            "100\n"
          ],
          "name": "stdout"
        }
      ]
    },
    {
      "cell_type": "code",
      "metadata": {
        "id": "og7Rq_XntkG9",
        "colab_type": "code",
        "colab": {}
      },
      "source": [
        "test_images = np.stack(test_images, axis = 0)\n",
        "test_real_labels = np.stack(test_real_labels, axis = 0)\n",
        "test_images = scaler.transform(test_images)"
      ],
      "execution_count": 0,
      "outputs": []
    },
    {
      "cell_type": "code",
      "metadata": {
        "id": "coB6kHDdtqQf",
        "colab_type": "code",
        "colab": {}
      },
      "source": [
        "test_images_list = []\n",
        "for image in test_images:\n",
        "  test_images_list.append(np.reshape(image, (227, 227, 3)))"
      ],
      "execution_count": 0,
      "outputs": []
    },
    {
      "cell_type": "code",
      "metadata": {
        "id": "fspIrDPltyl0",
        "colab_type": "code",
        "colab": {}
      },
      "source": [
        "test_images = np.array(test_images_list)\n",
        "test_real_labels = np.array(test_real_labels)"
      ],
      "execution_count": 0,
      "outputs": []
    },
    {
      "cell_type": "code",
      "metadata": {
        "id": "6jwSw3ENuXaV",
        "colab_type": "code",
        "outputId": "045fe65e-af19-41cb-defe-a479130e3112",
        "colab": {
          "base_uri": "https://localhost:8080/",
          "height": 34
        }
      },
      "source": [
        "predictions = loaded_model.predict(\n",
        "    x = test_images,\n",
        "    verbose = 1\n",
        ")"
      ],
      "execution_count": 0,
      "outputs": [
        {
          "output_type": "stream",
          "text": [
            "120/120 [==============================] - 5s 38ms/step\n"
          ],
          "name": "stdout"
        }
      ]
    },
    {
      "cell_type": "code",
      "metadata": {
        "id": "QPys2n9gupB3",
        "colab_type": "code",
        "outputId": "80997d91-9dd5-409d-9d29-42058412608b",
        "colab": {
          "base_uri": "https://localhost:8080/",
          "height": 51
        }
      },
      "source": [
        "predictions[0]"
      ],
      "execution_count": 0,
      "outputs": [
        {
          "output_type": "execute_result",
          "data": {
            "text/plain": [
              "array([1.0000000e+00, 4.7320009e-11, 3.6694415e-11, 6.1059739e-14,\n",
              "       9.2262937e-15, 4.3333922e-15], dtype=float32)"
            ]
          },
          "metadata": {
            "tags": []
          },
          "execution_count": 170
        }
      ]
    },
    {
      "cell_type": "code",
      "metadata": {
        "id": "ioWHDMlSuuRs",
        "colab_type": "code",
        "colab": {}
      },
      "source": [
        "for prediction in predictions:\n",
        "  label = np.argmax(prediction)\n",
        "#   print(prediction, label)\n",
        "  test_predicted_labels.append(label)"
      ],
      "execution_count": 0,
      "outputs": []
    },
    {
      "cell_type": "code",
      "metadata": {
        "id": "RuzFUg57vSkL",
        "colab_type": "code",
        "outputId": "a9f046f8-59ac-491b-abd8-88a8f18af549",
        "colab": {
          "base_uri": "https://localhost:8080/",
          "height": 34
        }
      },
      "source": [
        "test_real_labels[0:20]"
      ],
      "execution_count": 0,
      "outputs": [
        {
          "output_type": "execute_result",
          "data": {
            "text/plain": [
              "array([0, 5, 4, 0, 2, 3, 2, 1, 5, 5, 1, 3, 3, 4, 3, 5, 1, 4, 3, 1])"
            ]
          },
          "metadata": {
            "tags": []
          },
          "execution_count": 172
        }
      ]
    },
    {
      "cell_type": "code",
      "metadata": {
        "id": "YlpBz1X9vUcb",
        "colab_type": "code",
        "outputId": "3807d8eb-0c8c-46f9-a5d6-8070a02e3d9f",
        "colab": {
          "base_uri": "https://localhost:8080/",
          "height": 34
        }
      },
      "source": [
        "test_predicted_labels[0:20]"
      ],
      "execution_count": 0,
      "outputs": [
        {
          "output_type": "execute_result",
          "data": {
            "text/plain": [
              "[0, 5, 4, 0, 2, 3, 0, 1, 5, 5, 1, 3, 3, 3, 5, 5, 1, 4, 3, 1]"
            ]
          },
          "metadata": {
            "tags": []
          },
          "execution_count": 173
        }
      ]
    },
    {
      "cell_type": "code",
      "metadata": {
        "id": "Ltv9__muvWpy",
        "colab_type": "code",
        "colab": {}
      },
      "source": [
        "from sklearn.metrics import multilabel_confusion_matrix"
      ],
      "execution_count": 0,
      "outputs": []
    },
    {
      "cell_type": "code",
      "metadata": {
        "id": "eVZ3eElbvnkZ",
        "colab_type": "code",
        "colab": {}
      },
      "source": [
        "confusion_matrices = multilabel_confusion_matrix(test_real_labels, test_predicted_labels)"
      ],
      "execution_count": 0,
      "outputs": []
    },
    {
      "cell_type": "code",
      "metadata": {
        "id": "ZnLVz2M0vwoo",
        "colab_type": "code",
        "outputId": "5ef07c6d-24a4-4569-8f8c-ae67a35521a8",
        "colab": {
          "base_uri": "https://localhost:8080/",
          "height": 323
        }
      },
      "source": [
        "# TN - 0,0 FN - 1,0 TP - 1,1 FP - 0,1\n",
        "for index in range(0,6):\n",
        "  print(\"Confusion matrix for label \" , index, \" \\n\", confusion_matrices[index])"
      ],
      "execution_count": 0,
      "outputs": [
        {
          "output_type": "stream",
          "text": [
            "Confusion matrix for label  0  \n",
            " [[98  2]\n",
            " [ 1 19]]\n",
            "Confusion matrix for label  1  \n",
            " [[98  2]\n",
            " [ 1 19]]\n",
            "Confusion matrix for label  2  \n",
            " [[98  2]\n",
            " [ 6 14]]\n",
            "Confusion matrix for label  3  \n",
            " [[96  4]\n",
            " [ 2 18]]\n",
            "Confusion matrix for label  4  \n",
            " [[96  4]\n",
            " [ 8 12]]\n",
            "Confusion matrix for label  5  \n",
            " [[93  7]\n",
            " [ 3 17]]\n"
          ],
          "name": "stdout"
        }
      ]
    },
    {
      "cell_type": "code",
      "metadata": {
        "id": "P9hrjAehv6LI",
        "colab_type": "code",
        "colab": {}
      },
      "source": [
        "from sklearn.metrics import f1_score"
      ],
      "execution_count": 0,
      "outputs": []
    },
    {
      "cell_type": "code",
      "metadata": {
        "id": "n1QonOdK68pD",
        "colab_type": "code",
        "outputId": "e69be957-9e7a-45d9-88f5-811923aa7473",
        "colab": {
          "base_uri": "https://localhost:8080/",
          "height": 34
        }
      },
      "source": [
        "type(list(test_real_labels))"
      ],
      "execution_count": 0,
      "outputs": [
        {
          "output_type": "execute_result",
          "data": {
            "text/plain": [
              "list"
            ]
          },
          "metadata": {
            "tags": []
          },
          "execution_count": 178
        }
      ]
    },
    {
      "cell_type": "code",
      "metadata": {
        "id": "1g6uutZ77aBa",
        "colab_type": "code",
        "colab": {}
      },
      "source": [
        "# set(test_real_labels) - set(test_predicted_labels)"
      ],
      "execution_count": 0,
      "outputs": []
    },
    {
      "cell_type": "code",
      "metadata": {
        "id": "ePiTIJfw7e9-",
        "colab_type": "code",
        "colab": {}
      },
      "source": [
        "# test_predicted_labels"
      ],
      "execution_count": 0,
      "outputs": []
    },
    {
      "cell_type": "code",
      "metadata": {
        "id": "Ydji1tk16thJ",
        "colab_type": "code",
        "outputId": "e8bed307-f855-4fcb-ff4a-2928f69cfd11",
        "colab": {
          "base_uri": "https://localhost:8080/",
          "height": 34
        }
      },
      "source": [
        "f1_score(list(test_real_labels), test_predicted_labels, average='weighted')"
      ],
      "execution_count": 0,
      "outputs": [
        {
          "output_type": "execute_result",
          "data": {
            "text/plain": [
              "0.8213288518166567"
            ]
          },
          "metadata": {
            "tags": []
          },
          "execution_count": 181
        }
      ]
    },
    {
      "cell_type": "code",
      "metadata": {
        "id": "TtDxYaGt7K9l",
        "colab_type": "code",
        "colab": {}
      },
      "source": [
        ""
      ],
      "execution_count": 0,
      "outputs": []
    },
    {
      "cell_type": "code",
      "metadata": {
        "id": "NTHLiv5bt4ot",
        "colab_type": "code",
        "colab": {}
      },
      "source": [
        "train = StandardScaler()"
      ],
      "execution_count": 0,
      "outputs": []
    },
    {
      "cell_type": "code",
      "metadata": {
        "id": "uQ5r29e_t6Yh",
        "colab_type": "code",
        "colab": {}
      },
      "source": [
        "x = np.load('mean.npy')"
      ],
      "execution_count": 0,
      "outputs": []
    },
    {
      "cell_type": "code",
      "metadata": {
        "id": "aOGpwtH7t7zF",
        "colab_type": "code",
        "outputId": "d1d52b96-6177-4917-94b4-a8224b74946a",
        "colab": {
          "base_uri": "https://localhost:8080/",
          "height": 51
        }
      },
      "source": [
        "x"
      ],
      "execution_count": 0,
      "outputs": [
        {
          "output_type": "execute_result",
          "data": {
            "text/plain": [
              "array([229.4875    , 221.48333333, 211.46145833, ..., 182.01145833,\n",
              "       168.79791667, 158.32291667])"
            ]
          },
          "metadata": {
            "tags": []
          },
          "execution_count": 199
        }
      ]
    },
    {
      "cell_type": "code",
      "metadata": {
        "id": "0UdWacX4uB60",
        "colab_type": "code",
        "colab": {}
      },
      "source": [
        "train.mean_ = x"
      ],
      "execution_count": 0,
      "outputs": []
    },
    {
      "cell_type": "code",
      "metadata": {
        "id": "w6wrjVktuK2U",
        "colab_type": "code",
        "outputId": "c554536c-82ac-42a6-bcdc-ce5b4702505a",
        "colab": {
          "base_uri": "https://localhost:8080/",
          "height": 51
        }
      },
      "source": [
        "train.mean_"
      ],
      "execution_count": 0,
      "outputs": [
        {
          "output_type": "execute_result",
          "data": {
            "text/plain": [
              "array([229.4875    , 221.48333333, 211.46145833, ..., 182.01145833,\n",
              "       168.79791667, 158.32291667])"
            ]
          },
          "metadata": {
            "tags": []
          },
          "execution_count": 203
        }
      ]
    },
    {
      "cell_type": "code",
      "metadata": {
        "id": "EkL7lX3RuZwa",
        "colab_type": "code",
        "outputId": "8d9523c2-3b2e-4f73-fa0a-57a4b4c89a6d",
        "colab": {
          "base_uri": "https://localhost:8080/",
          "height": 51
        }
      },
      "source": [
        "scaler.scale_"
      ],
      "execution_count": 0,
      "outputs": [
        {
          "output_type": "execute_result",
          "data": {
            "text/plain": [
              "array([ 4.02360871,  5.05384892,  6.45727738, ..., 38.23023555,\n",
              "       47.61819501, 53.75904862])"
            ]
          },
          "metadata": {
            "tags": []
          },
          "execution_count": 207
        }
      ]
    },
    {
      "cell_type": "code",
      "metadata": {
        "id": "a39JVNAYuan6",
        "colab_type": "code",
        "colab": {}
      },
      "source": [
        ""
      ],
      "execution_count": 0,
      "outputs": []
    }
  ]
}